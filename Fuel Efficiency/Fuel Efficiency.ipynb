{
 "cells": [
  {
   "cell_type": "markdown",
   "id": "a55e29fc",
   "metadata": {},
   "source": [
    "\n",
    "#### Data Mining \n"
   ]
  },
  {
   "cell_type": "markdown",
   "id": "b9989ca5",
   "metadata": {},
   "source": [
    "####  Predicting Fuel Efficency "
   ]
  },
  {
   "cell_type": "markdown",
   "id": "791eeb25",
   "metadata": {},
   "source": [
    "Load the data"
   ]
  },
  {
   "cell_type": "code",
   "execution_count": 64,
   "id": "9a55d71f",
   "metadata": {},
   "outputs": [],
   "source": [
    "import pandas as pd"
   ]
  },
  {
   "cell_type": "code",
   "execution_count": 111,
   "id": "1fec281c",
   "metadata": {},
   "outputs": [],
   "source": [
    "df=pd.read_csv('auto-mpg.csv')"
   ]
  },
  {
   "cell_type": "code",
   "execution_count": 112,
   "id": "74ec3dd5",
   "metadata": {},
   "outputs": [
    {
     "data": {
      "text/html": [
       "<div>\n",
       "<style scoped>\n",
       "    .dataframe tbody tr th:only-of-type {\n",
       "        vertical-align: middle;\n",
       "    }\n",
       "\n",
       "    .dataframe tbody tr th {\n",
       "        vertical-align: top;\n",
       "    }\n",
       "\n",
       "    .dataframe thead th {\n",
       "        text-align: right;\n",
       "    }\n",
       "</style>\n",
       "<table border=\"1\" class=\"dataframe\">\n",
       "  <thead>\n",
       "    <tr style=\"text-align: right;\">\n",
       "      <th></th>\n",
       "      <th>mpg</th>\n",
       "      <th>cylinders</th>\n",
       "      <th>displacement</th>\n",
       "      <th>horsepower</th>\n",
       "      <th>weight</th>\n",
       "      <th>acceleration</th>\n",
       "      <th>model year</th>\n",
       "      <th>origin</th>\n",
       "      <th>car name</th>\n",
       "    </tr>\n",
       "  </thead>\n",
       "  <tbody>\n",
       "    <tr>\n",
       "      <th>0</th>\n",
       "      <td>18.0</td>\n",
       "      <td>8</td>\n",
       "      <td>307.0</td>\n",
       "      <td>130</td>\n",
       "      <td>3504</td>\n",
       "      <td>12.0</td>\n",
       "      <td>70</td>\n",
       "      <td>1</td>\n",
       "      <td>chevrolet chevelle malibu</td>\n",
       "    </tr>\n",
       "    <tr>\n",
       "      <th>1</th>\n",
       "      <td>15.0</td>\n",
       "      <td>8</td>\n",
       "      <td>350.0</td>\n",
       "      <td>165</td>\n",
       "      <td>3693</td>\n",
       "      <td>11.5</td>\n",
       "      <td>70</td>\n",
       "      <td>1</td>\n",
       "      <td>buick skylark 320</td>\n",
       "    </tr>\n",
       "    <tr>\n",
       "      <th>2</th>\n",
       "      <td>18.0</td>\n",
       "      <td>8</td>\n",
       "      <td>318.0</td>\n",
       "      <td>150</td>\n",
       "      <td>3436</td>\n",
       "      <td>11.0</td>\n",
       "      <td>70</td>\n",
       "      <td>1</td>\n",
       "      <td>plymouth satellite</td>\n",
       "    </tr>\n",
       "    <tr>\n",
       "      <th>3</th>\n",
       "      <td>16.0</td>\n",
       "      <td>8</td>\n",
       "      <td>304.0</td>\n",
       "      <td>150</td>\n",
       "      <td>3433</td>\n",
       "      <td>12.0</td>\n",
       "      <td>70</td>\n",
       "      <td>1</td>\n",
       "      <td>amc rebel sst</td>\n",
       "    </tr>\n",
       "    <tr>\n",
       "      <th>4</th>\n",
       "      <td>17.0</td>\n",
       "      <td>8</td>\n",
       "      <td>302.0</td>\n",
       "      <td>140</td>\n",
       "      <td>3449</td>\n",
       "      <td>10.5</td>\n",
       "      <td>70</td>\n",
       "      <td>1</td>\n",
       "      <td>ford torino</td>\n",
       "    </tr>\n",
       "  </tbody>\n",
       "</table>\n",
       "</div>"
      ],
      "text/plain": [
       "    mpg  cylinders  displacement horsepower  weight  acceleration  model year  \\\n",
       "0  18.0          8         307.0        130    3504          12.0          70   \n",
       "1  15.0          8         350.0        165    3693          11.5          70   \n",
       "2  18.0          8         318.0        150    3436          11.0          70   \n",
       "3  16.0          8         304.0        150    3433          12.0          70   \n",
       "4  17.0          8         302.0        140    3449          10.5          70   \n",
       "\n",
       "   origin                   car name  \n",
       "0       1  chevrolet chevelle malibu  \n",
       "1       1          buick skylark 320  \n",
       "2       1         plymouth satellite  \n",
       "3       1              amc rebel sst  \n",
       "4       1                ford torino  "
      ]
     },
     "execution_count": 112,
     "metadata": {},
     "output_type": "execute_result"
    }
   ],
   "source": [
    "# Checking top rows\n",
    "df.head()"
   ]
  },
  {
   "cell_type": "code",
   "execution_count": 113,
   "id": "32db555c",
   "metadata": {},
   "outputs": [
    {
     "data": {
      "text/plain": [
       "(398, 9)"
      ]
     },
     "execution_count": 113,
     "metadata": {},
     "output_type": "execute_result"
    }
   ],
   "source": [
    "# Number of columns and rows\n",
    "df.shape"
   ]
  },
  {
   "cell_type": "code",
   "execution_count": 114,
   "id": "e5f78017",
   "metadata": {},
   "outputs": [
    {
     "name": "stdout",
     "output_type": "stream",
     "text": [
      "<class 'pandas.core.frame.DataFrame'>\n",
      "RangeIndex: 398 entries, 0 to 397\n",
      "Data columns (total 9 columns):\n",
      " #   Column        Non-Null Count  Dtype  \n",
      "---  ------        --------------  -----  \n",
      " 0   mpg           398 non-null    float64\n",
      " 1   cylinders     398 non-null    int64  \n",
      " 2   displacement  398 non-null    float64\n",
      " 3   horsepower    398 non-null    object \n",
      " 4   weight        398 non-null    int64  \n",
      " 5   acceleration  398 non-null    float64\n",
      " 6   model year    398 non-null    int64  \n",
      " 7   origin        398 non-null    int64  \n",
      " 8   car name      398 non-null    object \n",
      "dtypes: float64(3), int64(4), object(2)\n",
      "memory usage: 28.1+ KB\n"
     ]
    }
   ],
   "source": [
    "# Chcking for null and data type\n",
    "df.info()"
   ]
  },
  {
   "cell_type": "markdown",
   "id": "77161d67",
   "metadata": {},
   "source": [
    "Data Cleaning "
   ]
  },
  {
   "cell_type": "code",
   "execution_count": null,
   "id": "12bf6caf",
   "metadata": {},
   "outputs": [],
   "source": []
  },
  {
   "cell_type": "code",
   "execution_count": 115,
   "id": "e3bdee43",
   "metadata": {},
   "outputs": [
    {
     "data": {
      "text/html": [
       "<div>\n",
       "<style scoped>\n",
       "    .dataframe tbody tr th:only-of-type {\n",
       "        vertical-align: middle;\n",
       "    }\n",
       "\n",
       "    .dataframe tbody tr th {\n",
       "        vertical-align: top;\n",
       "    }\n",
       "\n",
       "    .dataframe thead th {\n",
       "        text-align: right;\n",
       "    }\n",
       "</style>\n",
       "<table border=\"1\" class=\"dataframe\">\n",
       "  <thead>\n",
       "    <tr style=\"text-align: right;\">\n",
       "      <th></th>\n",
       "      <th>mpg</th>\n",
       "      <th>cylinders</th>\n",
       "      <th>displacement</th>\n",
       "      <th>horsepower</th>\n",
       "      <th>weight</th>\n",
       "      <th>acceleration</th>\n",
       "      <th>model year</th>\n",
       "      <th>origin</th>\n",
       "    </tr>\n",
       "  </thead>\n",
       "  <tbody>\n",
       "    <tr>\n",
       "      <th>0</th>\n",
       "      <td>18.0</td>\n",
       "      <td>8</td>\n",
       "      <td>307.0</td>\n",
       "      <td>130</td>\n",
       "      <td>3504</td>\n",
       "      <td>12.0</td>\n",
       "      <td>70</td>\n",
       "      <td>1</td>\n",
       "    </tr>\n",
       "    <tr>\n",
       "      <th>1</th>\n",
       "      <td>15.0</td>\n",
       "      <td>8</td>\n",
       "      <td>350.0</td>\n",
       "      <td>165</td>\n",
       "      <td>3693</td>\n",
       "      <td>11.5</td>\n",
       "      <td>70</td>\n",
       "      <td>1</td>\n",
       "    </tr>\n",
       "    <tr>\n",
       "      <th>2</th>\n",
       "      <td>18.0</td>\n",
       "      <td>8</td>\n",
       "      <td>318.0</td>\n",
       "      <td>150</td>\n",
       "      <td>3436</td>\n",
       "      <td>11.0</td>\n",
       "      <td>70</td>\n",
       "      <td>1</td>\n",
       "    </tr>\n",
       "    <tr>\n",
       "      <th>3</th>\n",
       "      <td>16.0</td>\n",
       "      <td>8</td>\n",
       "      <td>304.0</td>\n",
       "      <td>150</td>\n",
       "      <td>3433</td>\n",
       "      <td>12.0</td>\n",
       "      <td>70</td>\n",
       "      <td>1</td>\n",
       "    </tr>\n",
       "    <tr>\n",
       "      <th>4</th>\n",
       "      <td>17.0</td>\n",
       "      <td>8</td>\n",
       "      <td>302.0</td>\n",
       "      <td>140</td>\n",
       "      <td>3449</td>\n",
       "      <td>10.5</td>\n",
       "      <td>70</td>\n",
       "      <td>1</td>\n",
       "    </tr>\n",
       "  </tbody>\n",
       "</table>\n",
       "</div>"
      ],
      "text/plain": [
       "    mpg  cylinders  displacement horsepower  weight  acceleration  model year  \\\n",
       "0  18.0          8         307.0        130    3504          12.0          70   \n",
       "1  15.0          8         350.0        165    3693          11.5          70   \n",
       "2  18.0          8         318.0        150    3436          11.0          70   \n",
       "3  16.0          8         304.0        150    3433          12.0          70   \n",
       "4  17.0          8         302.0        140    3449          10.5          70   \n",
       "\n",
       "   origin  \n",
       "0       1  \n",
       "1       1  \n",
       "2       1  \n",
       "3       1  \n",
       "4       1  "
      ]
     },
     "execution_count": 115,
     "metadata": {},
     "output_type": "execute_result"
    }
   ],
   "source": [
    "# Removing car name column\n",
    "df2 = df.drop(df.columns[[8]],axis = 1)\n",
    "df2.head() \n"
   ]
  },
  {
   "cell_type": "code",
   "execution_count": 117,
   "id": "7f877f3a",
   "metadata": {},
   "outputs": [
    {
     "data": {
      "text/plain": [
       "array(['130', '165', '150', '140', '198', '220', '215', '225', '190',\n",
       "       '170', '160', '95', '97', '85', '88', '46', '87', '90', '113',\n",
       "       '200', '210', '193', '?', '100', '105', '175', '153', '180', '110',\n",
       "       '72', '86', '70', '76', '65', '69', '60', '80', '54', '208', '155',\n",
       "       '112', '92', '145', '137', '158', '167', '94', '107', '230', '49',\n",
       "       '75', '91', '122', '67', '83', '78', '52', '61', '93', '148',\n",
       "       '129', '96', '71', '98', '115', '53', '81', '79', '120', '152',\n",
       "       '102', '108', '68', '58', '149', '89', '63', '48', '66', '139',\n",
       "       '103', '125', '133', '138', '135', '142', '77', '62', '132', '84',\n",
       "       '64', '74', '116', '82'], dtype=object)"
      ]
     },
     "execution_count": 117,
     "metadata": {},
     "output_type": "execute_result"
    }
   ],
   "source": [
    "# Geeting unique values for horsepower\n",
    "df['horsepower'].unique()"
   ]
  },
  {
   "cell_type": "code",
   "execution_count": 118,
   "id": "36e9351f",
   "metadata": {},
   "outputs": [],
   "source": [
    "# From unique value list there is \"?\" \n",
    "\n",
    "#which is causing the data type to be object\n",
    "\n",
    "# Removing \"?\" and replacing it with mean value \n",
    "\n",
    "import numpy as np\n",
    "df2['horsepower'] = df2['horsepower'].replace('?', \n",
    "    np.mean(pd.to_numeric(df2['horsepower'], errors='coerce')))"
   ]
  },
  {
   "cell_type": "code",
   "execution_count": 119,
   "id": "9288f286",
   "metadata": {},
   "outputs": [
    {
     "name": "stdout",
     "output_type": "stream",
     "text": [
      "<class 'pandas.core.frame.DataFrame'>\n",
      "RangeIndex: 398 entries, 0 to 397\n",
      "Data columns (total 8 columns):\n",
      " #   Column        Non-Null Count  Dtype  \n",
      "---  ------        --------------  -----  \n",
      " 0   mpg           398 non-null    float64\n",
      " 1   cylinders     398 non-null    int64  \n",
      " 2   displacement  398 non-null    float64\n",
      " 3   horsepower    398 non-null    object \n",
      " 4   weight        398 non-null    int64  \n",
      " 5   acceleration  398 non-null    float64\n",
      " 6   model year    398 non-null    int64  \n",
      " 7   origin        398 non-null    int64  \n",
      "dtypes: float64(3), int64(4), object(1)\n",
      "memory usage: 25.0+ KB\n"
     ]
    }
   ],
   "source": [
    "# Chicking data type\n",
    "df2.info()"
   ]
  },
  {
   "cell_type": "code",
   "execution_count": 121,
   "id": "affb7108",
   "metadata": {},
   "outputs": [
    {
     "name": "stdout",
     "output_type": "stream",
     "text": [
      "mpg             float64\n",
      "cylinders         int64\n",
      "displacement    float64\n",
      "horsepower      float64\n",
      "weight            int64\n",
      "acceleration    float64\n",
      "model year        int64\n",
      "origin            int64\n",
      "dtype: object\n"
     ]
    }
   ],
   "source": [
    "# Changing data type to float\n",
    "\n",
    "df2[['horsepower']] = df2[['horsepower']].apply(pd.to_numeric)\n",
    "\n",
    "print(df2.dtypes)"
   ]
  },
  {
   "cell_type": "code",
   "execution_count": 122,
   "id": "46f9277f",
   "metadata": {},
   "outputs": [
    {
     "data": {
      "text/plain": [
       "array([1, 3, 2], dtype=int64)"
      ]
     },
     "execution_count": 122,
     "metadata": {},
     "output_type": "execute_result"
    }
   ],
   "source": [
    "#Create dummy variables for the origin column\n",
    "\n",
    "# Getting unique list \n",
    "\n",
    "df2['origin'].unique()"
   ]
  },
  {
   "cell_type": "code",
   "execution_count": 123,
   "id": "e4952a71",
   "metadata": {},
   "outputs": [],
   "source": [
    "# Assigning dummy varibales \n",
    "\n",
    "df3 = pd.get_dummies(df2, columns=['origin'], \\\n",
    "                     prefix='origin', drop_first=False)"
   ]
  },
  {
   "cell_type": "code",
   "execution_count": 124,
   "id": "5039db04",
   "metadata": {},
   "outputs": [
    {
     "data": {
      "text/html": [
       "<div>\n",
       "<style scoped>\n",
       "    .dataframe tbody tr th:only-of-type {\n",
       "        vertical-align: middle;\n",
       "    }\n",
       "\n",
       "    .dataframe tbody tr th {\n",
       "        vertical-align: top;\n",
       "    }\n",
       "\n",
       "    .dataframe thead th {\n",
       "        text-align: right;\n",
       "    }\n",
       "</style>\n",
       "<table border=\"1\" class=\"dataframe\">\n",
       "  <thead>\n",
       "    <tr style=\"text-align: right;\">\n",
       "      <th></th>\n",
       "      <th>mpg</th>\n",
       "      <th>cylinders</th>\n",
       "      <th>displacement</th>\n",
       "      <th>horsepower</th>\n",
       "      <th>weight</th>\n",
       "      <th>acceleration</th>\n",
       "      <th>model year</th>\n",
       "      <th>origin_1</th>\n",
       "      <th>origin_2</th>\n",
       "      <th>origin_3</th>\n",
       "    </tr>\n",
       "  </thead>\n",
       "  <tbody>\n",
       "    <tr>\n",
       "      <th>0</th>\n",
       "      <td>18.0</td>\n",
       "      <td>8</td>\n",
       "      <td>307.0</td>\n",
       "      <td>130.0</td>\n",
       "      <td>3504</td>\n",
       "      <td>12.0</td>\n",
       "      <td>70</td>\n",
       "      <td>1</td>\n",
       "      <td>0</td>\n",
       "      <td>0</td>\n",
       "    </tr>\n",
       "    <tr>\n",
       "      <th>1</th>\n",
       "      <td>15.0</td>\n",
       "      <td>8</td>\n",
       "      <td>350.0</td>\n",
       "      <td>165.0</td>\n",
       "      <td>3693</td>\n",
       "      <td>11.5</td>\n",
       "      <td>70</td>\n",
       "      <td>1</td>\n",
       "      <td>0</td>\n",
       "      <td>0</td>\n",
       "    </tr>\n",
       "    <tr>\n",
       "      <th>2</th>\n",
       "      <td>18.0</td>\n",
       "      <td>8</td>\n",
       "      <td>318.0</td>\n",
       "      <td>150.0</td>\n",
       "      <td>3436</td>\n",
       "      <td>11.0</td>\n",
       "      <td>70</td>\n",
       "      <td>1</td>\n",
       "      <td>0</td>\n",
       "      <td>0</td>\n",
       "    </tr>\n",
       "    <tr>\n",
       "      <th>3</th>\n",
       "      <td>16.0</td>\n",
       "      <td>8</td>\n",
       "      <td>304.0</td>\n",
       "      <td>150.0</td>\n",
       "      <td>3433</td>\n",
       "      <td>12.0</td>\n",
       "      <td>70</td>\n",
       "      <td>1</td>\n",
       "      <td>0</td>\n",
       "      <td>0</td>\n",
       "    </tr>\n",
       "    <tr>\n",
       "      <th>4</th>\n",
       "      <td>17.0</td>\n",
       "      <td>8</td>\n",
       "      <td>302.0</td>\n",
       "      <td>140.0</td>\n",
       "      <td>3449</td>\n",
       "      <td>10.5</td>\n",
       "      <td>70</td>\n",
       "      <td>1</td>\n",
       "      <td>0</td>\n",
       "      <td>0</td>\n",
       "    </tr>\n",
       "  </tbody>\n",
       "</table>\n",
       "</div>"
      ],
      "text/plain": [
       "    mpg  cylinders  displacement  horsepower  weight  acceleration  \\\n",
       "0  18.0          8         307.0       130.0    3504          12.0   \n",
       "1  15.0          8         350.0       165.0    3693          11.5   \n",
       "2  18.0          8         318.0       150.0    3436          11.0   \n",
       "3  16.0          8         304.0       150.0    3433          12.0   \n",
       "4  17.0          8         302.0       140.0    3449          10.5   \n",
       "\n",
       "   model year  origin_1  origin_2  origin_3  \n",
       "0          70         1         0         0  \n",
       "1          70         1         0         0  \n",
       "2          70         1         0         0  \n",
       "3          70         1         0         0  \n",
       "4          70         1         0         0  "
      ]
     },
     "execution_count": 124,
     "metadata": {},
     "output_type": "execute_result"
    }
   ],
   "source": [
    "# Checkin top row for new data frame\n",
    "\n",
    "df3.head()"
   ]
  },
  {
   "cell_type": "markdown",
   "id": "59dab476",
   "metadata": {},
   "source": [
    "Creating a correlation coefficient matrix"
   ]
  },
  {
   "cell_type": "code",
   "execution_count": 125,
   "id": "73f3ea69",
   "metadata": {},
   "outputs": [
    {
     "name": "stdout",
     "output_type": "stream",
     "text": [
      "                   mpg  cylinders  displacement  horsepower    weight  \\\n",
      "mpg           1.000000  -0.775396     -0.804203   -0.771437 -0.831741   \n",
      "cylinders    -0.775396   1.000000      0.950721    0.838939  0.896017   \n",
      "displacement -0.804203   0.950721      1.000000    0.893646  0.932824   \n",
      "horsepower   -0.771437   0.838939      0.893646    1.000000  0.860574   \n",
      "weight       -0.831741   0.896017      0.932824    0.860574  1.000000   \n",
      "acceleration  0.420289  -0.505419     -0.543684   -0.684259 -0.417457   \n",
      "model year    0.579267  -0.348746     -0.370164   -0.411651 -0.306564   \n",
      "origin_1     -0.568192   0.604351      0.651407    0.486083  0.598398   \n",
      "origin_2      0.259022  -0.352861     -0.373886   -0.281258 -0.298843   \n",
      "origin_3      0.442174  -0.396479     -0.433505   -0.321325 -0.440817   \n",
      "\n",
      "              acceleration  model year  origin_1  origin_2  origin_3  \n",
      "mpg               0.420289    0.579267 -0.568192  0.259022  0.442174  \n",
      "cylinders        -0.505419   -0.348746  0.604351 -0.352861 -0.396479  \n",
      "displacement     -0.543684   -0.370164  0.651407 -0.373886 -0.433505  \n",
      "horsepower       -0.684259   -0.411651  0.486083 -0.281258 -0.321325  \n",
      "weight           -0.417457   -0.306564  0.598398 -0.298843 -0.440817  \n",
      "acceleration      1.000000    0.288137 -0.250806  0.204473  0.109144  \n",
      "model year        0.288137    1.000000 -0.139883 -0.024489  0.193101  \n",
      "origin_1         -0.250806   -0.139883  1.000000 -0.597198 -0.643317  \n",
      "origin_2          0.204473   -0.024489 -0.597198  1.000000 -0.229895  \n",
      "origin_3          0.109144    0.193101 -0.643317 -0.229895  1.000000  \n"
     ]
    }
   ],
   "source": [
    "# Creating correlation coefficient matrix\n",
    "\n",
    "corr_matrix = df3.corr()\n",
    "print(corr_matrix)"
   ]
  },
  {
   "cell_type": "code",
   "execution_count": 126,
   "id": "341f83e5",
   "metadata": {},
   "outputs": [],
   "source": [
    "# Getting liabraries for visualization\n",
    "\n",
    "import seaborn as sn\n",
    "import matplotlib.pyplot as plt"
   ]
  },
  {
   "cell_type": "code",
   "execution_count": 127,
   "id": "648c1fd3",
   "metadata": {},
   "outputs": [
    {
     "data": {
      "image/png": "[encoded data removed]",
      "text/plain": [
       "<Figure size 432x288 with 2 Axes>"
      ]
     },
     "metadata": {
      "needs_background": "light"
     },
     "output_type": "display_data"
    }
   ],
   "source": [
    "# creating a plot \n",
    "sn.heatmap(corr_matrix, annot=True)\n",
    "plt.show()"
   ]
  },
  {
   "cell_type": "code",
   "execution_count": null,
   "id": "89174f8a",
   "metadata": {},
   "outputs": [],
   "source": [
    "# Features highly corelated with mpg are \n",
    "# cylinders,displacement,horsepower, weight and origin_1"
   ]
  },
  {
   "cell_type": "code",
   "execution_count": 155,
   "id": "44ababab",
   "metadata": {},
   "outputs": [
    {
     "data": {
      "image/png": "[encoded data removed]",
      "text/plain": [
       "<Figure size 432x288 with 1 Axes>"
      ]
     },
     "metadata": {
      "needs_background": "light"
     },
     "output_type": "display_data"
    }
   ],
   "source": [
    "# Draw a scatter plot\n",
    "\n",
    "df3.plot.scatter(x = 'weight',y = 'mpg', s = 100);"
   ]
  },
  {
   "cell_type": "code",
   "execution_count": 129,
   "id": "2299b9de",
   "metadata": {},
   "outputs": [],
   "source": [
    "# The plot shows weight and mpg are highly related and \n",
    "#as weight increases the value of mpg decreases.\n",
    "\n",
    "# This is aligned with teh correlation coefficient of -0.83, \n",
    "# which indicates strong inverse relation."
   ]
  },
  {
   "cell_type": "markdown",
   "id": "6177675b",
   "metadata": {},
   "source": [
    "Randomly split the data into 80% training data and 20% test data"
   ]
  },
  {
   "cell_type": "code",
   "execution_count": 158,
   "id": "3019b22b",
   "metadata": {},
   "outputs": [],
   "source": [
    "# Getting library\n",
    "\n",
    "from sklearn.model_selection import train_test_split\n",
    "\n",
    "# Assigning target as mpg\n",
    "target = 'mpg'\n",
    "\n",
    "# using all the other columns\n",
    "features = ['cylinders','displacement','horsepower','weight',\\\n",
    "            'acceleration','model year','origin_1','origin_2','origin_3']"
   ]
  },
  {
   "cell_type": "code",
   "execution_count": 160,
   "id": "4290b22e",
   "metadata": {},
   "outputs": [],
   "source": [
    "# Splitting to train and test \n",
    "\n",
    "X = df3[features]\n",
    "Y = df3[target]\n",
    "X_train,X_test,Y_train,Y_test=train_test_split(X,Y,test_size=0.80,)"
   ]
  },
  {
   "cell_type": "markdown",
   "id": "61ffd1ac",
   "metadata": {},
   "source": [
    "Train an ordinary linear regression on the training data."
   ]
  },
  {
   "cell_type": "code",
   "execution_count": 161,
   "id": "ec838a12",
   "metadata": {},
   "outputs": [],
   "source": [
    "model = LinearRegression()"
   ]
  },
  {
   "cell_type": "code",
   "execution_count": 162,
   "id": "9361fb6b",
   "metadata": {},
   "outputs": [
    {
     "data": {
      "text/plain": [
       "LinearRegression()"
      ]
     },
     "execution_count": 162,
     "metadata": {},
     "output_type": "execute_result"
    }
   ],
   "source": [
    "# Fitting linear regression on the train data \n",
    "model.fit(X_train, Y_train)"
   ]
  },
  {
   "cell_type": "code",
   "execution_count": 163,
   "id": "65c443d9",
   "metadata": {
    "scrolled": true
   },
   "outputs": [
    {
     "data": {
      "text/html": [
       "<div>\n",
       "<style scoped>\n",
       "    .dataframe tbody tr th:only-of-type {\n",
       "        vertical-align: middle;\n",
       "    }\n",
       "\n",
       "    .dataframe tbody tr th {\n",
       "        vertical-align: top;\n",
       "    }\n",
       "\n",
       "    .dataframe thead th {\n",
       "        text-align: right;\n",
       "    }\n",
       "</style>\n",
       "<table border=\"1\" class=\"dataframe\">\n",
       "  <thead>\n",
       "    <tr style=\"text-align: right;\">\n",
       "      <th></th>\n",
       "      <th>Coeff</th>\n",
       "    </tr>\n",
       "  </thead>\n",
       "  <tbody>\n",
       "    <tr>\n",
       "      <th>cylinders</th>\n",
       "      <td>-0.587052</td>\n",
       "    </tr>\n",
       "    <tr>\n",
       "      <th>displacement</th>\n",
       "      <td>0.048282</td>\n",
       "    </tr>\n",
       "    <tr>\n",
       "      <th>horsepower</th>\n",
       "      <td>-0.024150</td>\n",
       "    </tr>\n",
       "    <tr>\n",
       "      <th>weight</th>\n",
       "      <td>-0.008573</td>\n",
       "    </tr>\n",
       "    <tr>\n",
       "      <th>acceleration</th>\n",
       "      <td>0.283490</td>\n",
       "    </tr>\n",
       "    <tr>\n",
       "      <th>model year</th>\n",
       "      <td>0.954918</td>\n",
       "    </tr>\n",
       "    <tr>\n",
       "      <th>origin_1</th>\n",
       "      <td>-2.070732</td>\n",
       "    </tr>\n",
       "    <tr>\n",
       "      <th>origin_2</th>\n",
       "      <td>2.109192</td>\n",
       "    </tr>\n",
       "    <tr>\n",
       "      <th>origin_3</th>\n",
       "      <td>-0.038460</td>\n",
       "    </tr>\n",
       "  </tbody>\n",
       "</table>\n",
       "</div>"
      ],
      "text/plain": [
       "                 Coeff\n",
       "cylinders    -0.587052\n",
       "displacement  0.048282\n",
       "horsepower   -0.024150\n",
       "weight       -0.008573\n",
       "acceleration  0.283490\n",
       "model year    0.954918\n",
       "origin_1     -2.070732\n",
       "origin_2      2.109192\n",
       "origin_3     -0.038460"
      ]
     },
     "execution_count": 163,
     "metadata": {},
     "output_type": "execute_result"
    }
   ],
   "source": [
    "# Checking the model Coeffient result\n",
    "pd.DataFrame(model.coef_, X.columns, columns = ['Coeff'])"
   ]
  },
  {
   "cell_type": "markdown",
   "id": "2effeb9d",
   "metadata": {},
   "source": [
    "Prediction and Model Evaluation "
   ]
  },
  {
   "cell_type": "code",
   "execution_count": 164,
   "id": "c4d98102",
   "metadata": {},
   "outputs": [],
   "source": [
    "# Getting liabrary\n",
    "from sklearn.metrics import mean_absolute_error,mean_squared_error,r2_score"
   ]
  },
  {
   "cell_type": "code",
   "execution_count": 179,
   "id": "341991aa",
   "metadata": {},
   "outputs": [],
   "source": [
    "# Setting model prediction on the training  \n",
    "predicted_y = model.predict(X_train)"
   ]
  },
  {
   "cell_type": "code",
   "execution_count": 181,
   "id": "33b0966e",
   "metadata": {},
   "outputs": [
    {
     "name": "stdout",
     "output_type": "stream",
     "text": [
      "Test R2: 0.8393163679470097\n",
      "Test RMSE: 3.260765587087554\n",
      "Test MAE: 2.616072251296223\n"
     ]
    }
   ],
   "source": [
    "# R2, RMSE and MAE on training data \n",
    "r2_train = model.score(X_train, Y_train)\n",
    "rmse_train = sqrt(mean_squared_error(Y_train, predicted_y))\n",
    "mae_train = mean_absolute_error(Y_train,predicted_y)\n",
    "print ('Test R2: '+ str(r2_train))\n",
    "print ('Test RMSE: '+ str(rmse_train))\n",
    "print ('Test MAE: '+ str(mae_train))\n"
   ]
  },
  {
   "cell_type": "code",
   "execution_count": 184,
   "id": "bd901a1b",
   "metadata": {},
   "outputs": [],
   "source": [
    "# Setting model prediction on the test  \n",
    "predicted_y_test = model.predict(X_test)"
   ]
  },
  {
   "cell_type": "code",
   "execution_count": 186,
   "id": "965ad785",
   "metadata": {},
   "outputs": [
    {
     "name": "stdout",
     "output_type": "stream",
     "text": [
      "Test R2: 0.7895273730474798\n",
      "Test RMSE: 3.529895738619546\n",
      "Test MAE: 2.812467238037092\n"
     ]
    }
   ],
   "source": [
    "# R2, RMSE and MAE on training data \n",
    "r2_test = model.score(X_test, Y_test)\n",
    "rmse_test = sqrt(mean_squared_error(Y_test, predicted_y_test))\n",
    "mae_test = mean_absolute_error(Y_test, predicted_y_test)\n",
    "print ('Test R2: '+ str(r2_test))\n",
    "print ('Test RMSE: '+ str(rmse_test))\n",
    "print ('Test MAE: '+ str(mae_test))\n"
   ]
  },
  {
   "cell_type": "markdown",
   "id": "7c803ba0",
   "metadata": {},
   "source": [
    "There is close alignment between the training and test, r2, mae and rmse. The training model fits 84% of the variance in the data. The average magnitue of error between the predicted value and actual value is 2.6"
   ]
  },
  {
   "cell_type": "code",
   "execution_count": 187,
   "id": "4d9f4118",
   "metadata": {},
   "outputs": [
    {
     "data": {
      "text/plain": [
       "Lasso()"
      ]
     },
     "execution_count": 187,
     "metadata": {},
     "output_type": "execute_result"
    }
   ],
   "source": [
    "# Using Lasso Regression\n",
    "from sklearn.linear_model import Lasso\n",
    "\n",
    "model2 = Lasso()\n",
    "\n",
    "# Fitting linear regression on the train data \n",
    "model2.fit(X_train, Y_train)\n"
   ]
  },
  {
   "cell_type": "code",
   "execution_count": 188,
   "id": "93d42b72",
   "metadata": {},
   "outputs": [
    {
     "data": {
      "text/html": [
       "<div>\n",
       "<style scoped>\n",
       "    .dataframe tbody tr th:only-of-type {\n",
       "        vertical-align: middle;\n",
       "    }\n",
       "\n",
       "    .dataframe tbody tr th {\n",
       "        vertical-align: top;\n",
       "    }\n",
       "\n",
       "    .dataframe thead th {\n",
       "        text-align: right;\n",
       "    }\n",
       "</style>\n",
       "<table border=\"1\" class=\"dataframe\">\n",
       "  <thead>\n",
       "    <tr style=\"text-align: right;\">\n",
       "      <th></th>\n",
       "      <th>Coeff</th>\n",
       "    </tr>\n",
       "  </thead>\n",
       "  <tbody>\n",
       "    <tr>\n",
       "      <th>cylinders</th>\n",
       "      <td>-0.000000</td>\n",
       "    </tr>\n",
       "    <tr>\n",
       "      <th>displacement</th>\n",
       "      <td>0.004527</td>\n",
       "    </tr>\n",
       "    <tr>\n",
       "      <th>horsepower</th>\n",
       "      <td>-0.046983</td>\n",
       "    </tr>\n",
       "    <tr>\n",
       "      <th>weight</th>\n",
       "      <td>-0.005363</td>\n",
       "    </tr>\n",
       "    <tr>\n",
       "      <th>acceleration</th>\n",
       "      <td>0.000000</td>\n",
       "    </tr>\n",
       "    <tr>\n",
       "      <th>model year</th>\n",
       "      <td>0.774053</td>\n",
       "    </tr>\n",
       "    <tr>\n",
       "      <th>origin_1</th>\n",
       "      <td>-0.000000</td>\n",
       "    </tr>\n",
       "    <tr>\n",
       "      <th>origin_2</th>\n",
       "      <td>0.000000</td>\n",
       "    </tr>\n",
       "    <tr>\n",
       "      <th>origin_3</th>\n",
       "      <td>0.000000</td>\n",
       "    </tr>\n",
       "  </tbody>\n",
       "</table>\n",
       "</div>"
      ],
      "text/plain": [
       "                 Coeff\n",
       "cylinders    -0.000000\n",
       "displacement  0.004527\n",
       "horsepower   -0.046983\n",
       "weight       -0.005363\n",
       "acceleration  0.000000\n",
       "model year    0.774053\n",
       "origin_1     -0.000000\n",
       "origin_2      0.000000\n",
       "origin_3      0.000000"
      ]
     },
     "execution_count": 188,
     "metadata": {},
     "output_type": "execute_result"
    }
   ],
   "source": [
    "# Checking the model Coeffient result\n",
    "pd.DataFrame(model2.coef_, X.columns, columns = ['Coeff'])"
   ]
  },
  {
   "cell_type": "code",
   "execution_count": 189,
   "id": "0627759f",
   "metadata": {},
   "outputs": [],
   "source": [
    "# Setting model prediction on the training  \n",
    "predicted_y_lasso = model2.predict(X_train)"
   ]
  },
  {
   "cell_type": "code",
   "execution_count": 194,
   "id": "0859c1eb",
   "metadata": {},
   "outputs": [
    {
     "name": "stdout",
     "output_type": "stream",
     "text": [
      "r2_train_lasso: 0.8094205763394056\n",
      "rmse_train_lasso: 3.551172457269966\n",
      "mae_train_lasso: 2.7958049626843655\n"
     ]
    }
   ],
   "source": [
    "# R2, RMSE and MAE on training data \n",
    "r2_train_lasso = model2.score(X_train, Y_train)\n",
    "rmse_train_lasso = sqrt(mean_squared_error(Y_train,\\\n",
    "                                           predicted_y_lasso))\n",
    "mae_train_lasso = mean_absolute_error(Y_train,predicted_y_lasso)\n",
    "print ('r2_train_lasso: '+ str(r2_train_lasso))\n",
    "print ('rmse_train_lasso: '+ str(rmse_train_lasso))\n",
    "print ('mae_train_lasso: '+ str(mae_train_lasso))"
   ]
  },
  {
   "cell_type": "code",
   "execution_count": 195,
   "id": "f2c75de6",
   "metadata": {},
   "outputs": [],
   "source": [
    "# Setting model prediction on the test  \n",
    "predicted_y_test_lasso = model.predict(X_test)"
   ]
  },
  {
   "cell_type": "code",
   "execution_count": 196,
   "id": "d0990a18",
   "metadata": {},
   "outputs": [
    {
     "name": "stdout",
     "output_type": "stream",
     "text": [
      "r2_test_lasso: 0.7895273730474798\n",
      "rmse_test_lasso: 3.529895738619546\n",
      "mae_test_lasso: 2.812467238037092\n"
     ]
    }
   ],
   "source": [
    "# R2, RMSE and MAE on training data \n",
    "r2_test_lasso = model2.score(X_test, Y_test)\n",
    "rmse_test_lasso = sqrt(mean_squared_error(Y_test,\\\n",
    "                                          predicted_y_test_lasso))\n",
    "mae_test_lasso = mean_absolute_error(Y_test, predicted_y_test_lasso)\n",
    "print ('r2_test_lasso: '+ str(r2_test))\n",
    "print ('rmse_test_lasso: '+ str(rmse_test))\n",
    "print ('mae_test_lasso: '+ str(mae_test))"
   ]
  },
  {
   "cell_type": "markdown",
   "id": "0d463fa1",
   "metadata": {},
   "source": [
    "Using Lasso regression model didn't result in a better model as the r2 has dropped and mae and rmse increased compared to the regression model."
   ]
  }
 ],
 "metadata": {
  "kernelspec": {
   "display_name": "Python 3 (ipykernel)",
   "language": "python",
   "name": "python3"
  },
  "language_info": {
   "codemirror_mode": {
    "name": "ipython",
    "version": 3
   },
   "file_extension": ".py",
   "mimetype": "text/x-python",
   "name": "python",
   "nbconvert_exporter": "python",
   "pygments_lexer": "ipython3",
   "version": "3.9.12"
  }
 },
 "nbformat": 4,
 "nbformat_minor": 5
}
