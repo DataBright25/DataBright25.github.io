{
 "cells": [
  {
   "cell_type": "markdown",
   "id": "4f80d6fe",
   "metadata": {},
   "source": [
    "### Mulubrhan Gebrekidan "
   ]
  },
  {
   "cell_type": "markdown",
   "id": "0ca35ef5",
   "metadata": {},
   "source": [
    "\n",
    "### Detecting Autism in Toddlers Using Machine Learning "
   ]
  },
  {
   "cell_type": "markdown",
   "id": "a74c7553",
   "metadata": {},
   "source": [
    "### Background"
   ]
  },
  {
   "cell_type": "markdown",
   "id": "dd7d5815",
   "metadata": {},
   "source": [
    "Autism Spectrum Disorder is a disability that is caused by differences in the brain which is expressed by behaving, interacting, and communicating in different ways. It has its own unique strength and also might pause difficulties in a person requiring intervention. According to CDC formal diagnosis doesn’t happen early and wait time is sometimes a year long. However, early intervention is critical. Understanding what traits to look for associated with Autism is tremendously helpful for parents and health practitioners. While waiting for the formal diagnostic, by using these attributes, more attention and personalized help can be tailored for the individual. This project uses a data mining model to classify attributes related to Autism.\n",
    " The data used is the Kaggle dataset, which is collected from a mobile app where respondents answer a set of 10 questions. The answer to the question was then converted to 1 and 0. The ten questions included are,\n",
    "1.\tDoes your child look at you when you call his/her name?\n",
    "2.\tHow easy is it for you to get eye contact with your child?\n",
    "3.\tDoes your child point to indicate that s/he wants something? (e.g. a toy that is out of reach)\n",
    "4.\tDoes your child point to share interest with you? (e.g. pointing at an interesting sight)\n",
    "5.\tDoes your child pretend? (e.g. care for dolls, talk on a toy phone)\n",
    "6.\tDoes your child follow where you’re looking?\n",
    "7.\tIf you or someone else in the family is visibly upset, does your child show signs of wanting to comfort them? (e.g. stroking hair, hugging them)\n",
    "8.\tWould you describe your child’s first words as:\n",
    "9.\tDoes your child use simple gestures? (e.g. wave goodbye) \n",
    "10.\t10, Does your child stare at nothing with no apparent purpose?\n"
   ]
  },
  {
   "cell_type": "markdown",
   "id": "b6235b68",
   "metadata": {},
   "source": [
    "### EDA"
   ]
  },
  {
   "cell_type": "code",
   "execution_count": 1,
   "id": "95cbffc4",
   "metadata": {},
   "outputs": [],
   "source": [
    "import pandas as pd\n",
    "df= pd.read_csv(\"Toddler Autism dataset July 2018.csv\")"
   ]
  },
  {
   "cell_type": "code",
   "execution_count": 2,
   "id": "b707ec49",
   "metadata": {},
   "outputs": [
    {
     "data": {
      "text/html": [
       "<div>\n",
       "<style scoped>\n",
       "    .dataframe tbody tr th:only-of-type {\n",
       "        vertical-align: middle;\n",
       "    }\n",
       "\n",
       "    .dataframe tbody tr th {\n",
       "        vertical-align: top;\n",
       "    }\n",
       "\n",
       "    .dataframe thead th {\n",
       "        text-align: right;\n",
       "    }\n",
       "</style>\n",
       "<table border=\"1\" class=\"dataframe\">\n",
       "  <thead>\n",
       "    <tr style=\"text-align: right;\">\n",
       "      <th></th>\n",
       "      <th>Case_No</th>\n",
       "      <th>A1</th>\n",
       "      <th>A2</th>\n",
       "      <th>A3</th>\n",
       "      <th>A4</th>\n",
       "      <th>A5</th>\n",
       "      <th>A6</th>\n",
       "      <th>A7</th>\n",
       "      <th>A8</th>\n",
       "      <th>A9</th>\n",
       "      <th>A10</th>\n",
       "      <th>Age_Mons</th>\n",
       "      <th>Qchat-10-Score</th>\n",
       "      <th>Sex</th>\n",
       "      <th>Ethnicity</th>\n",
       "      <th>Jaundice</th>\n",
       "      <th>Family_mem_with_ASD</th>\n",
       "      <th>Who completed the test</th>\n",
       "      <th>Class/ASD Traits</th>\n",
       "    </tr>\n",
       "  </thead>\n",
       "  <tbody>\n",
       "    <tr>\n",
       "      <th>0</th>\n",
       "      <td>1</td>\n",
       "      <td>0</td>\n",
       "      <td>0</td>\n",
       "      <td>0</td>\n",
       "      <td>0</td>\n",
       "      <td>0</td>\n",
       "      <td>0</td>\n",
       "      <td>1</td>\n",
       "      <td>1</td>\n",
       "      <td>0</td>\n",
       "      <td>1</td>\n",
       "      <td>28</td>\n",
       "      <td>3</td>\n",
       "      <td>f</td>\n",
       "      <td>middle eastern</td>\n",
       "      <td>yes</td>\n",
       "      <td>no</td>\n",
       "      <td>family member</td>\n",
       "      <td>No</td>\n",
       "    </tr>\n",
       "    <tr>\n",
       "      <th>1</th>\n",
       "      <td>2</td>\n",
       "      <td>1</td>\n",
       "      <td>1</td>\n",
       "      <td>0</td>\n",
       "      <td>0</td>\n",
       "      <td>0</td>\n",
       "      <td>1</td>\n",
       "      <td>1</td>\n",
       "      <td>0</td>\n",
       "      <td>0</td>\n",
       "      <td>0</td>\n",
       "      <td>36</td>\n",
       "      <td>4</td>\n",
       "      <td>m</td>\n",
       "      <td>White European</td>\n",
       "      <td>yes</td>\n",
       "      <td>no</td>\n",
       "      <td>family member</td>\n",
       "      <td>Yes</td>\n",
       "    </tr>\n",
       "    <tr>\n",
       "      <th>2</th>\n",
       "      <td>3</td>\n",
       "      <td>1</td>\n",
       "      <td>0</td>\n",
       "      <td>0</td>\n",
       "      <td>0</td>\n",
       "      <td>0</td>\n",
       "      <td>0</td>\n",
       "      <td>1</td>\n",
       "      <td>1</td>\n",
       "      <td>0</td>\n",
       "      <td>1</td>\n",
       "      <td>36</td>\n",
       "      <td>4</td>\n",
       "      <td>m</td>\n",
       "      <td>middle eastern</td>\n",
       "      <td>yes</td>\n",
       "      <td>no</td>\n",
       "      <td>family member</td>\n",
       "      <td>Yes</td>\n",
       "    </tr>\n",
       "    <tr>\n",
       "      <th>3</th>\n",
       "      <td>4</td>\n",
       "      <td>1</td>\n",
       "      <td>1</td>\n",
       "      <td>1</td>\n",
       "      <td>1</td>\n",
       "      <td>1</td>\n",
       "      <td>1</td>\n",
       "      <td>1</td>\n",
       "      <td>1</td>\n",
       "      <td>1</td>\n",
       "      <td>1</td>\n",
       "      <td>24</td>\n",
       "      <td>10</td>\n",
       "      <td>m</td>\n",
       "      <td>Hispanic</td>\n",
       "      <td>no</td>\n",
       "      <td>no</td>\n",
       "      <td>family member</td>\n",
       "      <td>Yes</td>\n",
       "    </tr>\n",
       "    <tr>\n",
       "      <th>4</th>\n",
       "      <td>5</td>\n",
       "      <td>1</td>\n",
       "      <td>1</td>\n",
       "      <td>0</td>\n",
       "      <td>1</td>\n",
       "      <td>1</td>\n",
       "      <td>1</td>\n",
       "      <td>1</td>\n",
       "      <td>1</td>\n",
       "      <td>1</td>\n",
       "      <td>1</td>\n",
       "      <td>20</td>\n",
       "      <td>9</td>\n",
       "      <td>f</td>\n",
       "      <td>White European</td>\n",
       "      <td>no</td>\n",
       "      <td>yes</td>\n",
       "      <td>family member</td>\n",
       "      <td>Yes</td>\n",
       "    </tr>\n",
       "  </tbody>\n",
       "</table>\n",
       "</div>"
      ],
      "text/plain": [
       "   Case_No  A1  A2  A3  A4  A5  A6  A7  A8  A9  A10  Age_Mons  Qchat-10-Score  \\\n",
       "0        1   0   0   0   0   0   0   1   1   0    1        28               3   \n",
       "1        2   1   1   0   0   0   1   1   0   0    0        36               4   \n",
       "2        3   1   0   0   0   0   0   1   1   0    1        36               4   \n",
       "3        4   1   1   1   1   1   1   1   1   1    1        24              10   \n",
       "4        5   1   1   0   1   1   1   1   1   1    1        20               9   \n",
       "\n",
       "  Sex       Ethnicity Jaundice Family_mem_with_ASD Who completed the test  \\\n",
       "0   f  middle eastern      yes                  no          family member   \n",
       "1   m  White European      yes                  no          family member   \n",
       "2   m  middle eastern      yes                  no          family member   \n",
       "3   m        Hispanic       no                  no          family member   \n",
       "4   f  White European       no                 yes          family member   \n",
       "\n",
       "  Class/ASD Traits   \n",
       "0                No  \n",
       "1               Yes  \n",
       "2               Yes  \n",
       "3               Yes  \n",
       "4               Yes  "
      ]
     },
     "execution_count": 2,
     "metadata": {},
     "output_type": "execute_result"
    }
   ],
   "source": [
    "# Checking first rows\n",
    "df.head()"
   ]
  },
  {
   "cell_type": "code",
   "execution_count": 3,
   "id": "d129b0e3",
   "metadata": {},
   "outputs": [
    {
     "data": {
      "text/plain": [
       "(1054, 19)"
      ]
     },
     "execution_count": 3,
     "metadata": {},
     "output_type": "execute_result"
    }
   ],
   "source": [
    "df.shape"
   ]
  },
  {
   "cell_type": "markdown",
   "id": "cf230179",
   "metadata": {},
   "source": [
    "### Visualization"
   ]
  },
  {
   "cell_type": "code",
   "execution_count": 4,
   "id": "835756fa",
   "metadata": {},
   "outputs": [],
   "source": [
    "import matplotlib.pyplot as plt"
   ]
  },
  {
   "cell_type": "code",
   "execution_count": 5,
   "id": "42b7d93d",
   "metadata": {},
   "outputs": [
    {
     "data": {
      "image/png": "[encoded data removed]",
      "text/plain": [
       "<Figure size 432x288 with 1 Axes>"
      ]
     },
     "metadata": {
      "needs_background": "light"
     },
     "output_type": "display_data"
    }
   ],
   "source": [
    "plt.hist(df[\"Age_Mons\"],bins=10)\n",
    "plt.title(\"Number of Toddlers by age group\")\n",
    "plt.show()"
   ]
  },
  {
   "cell_type": "markdown",
   "id": "4a7406d1",
   "metadata": {},
   "source": [
    "\n",
    "The histogram shows most of the response is for children at around one year 2 years and the highest number at about 3 year."
   ]
  },
  {
   "cell_type": "code",
   "execution_count": 6,
   "id": "8319563e",
   "metadata": {},
   "outputs": [
    {
     "data": {
      "image/png": "[encoded data removed]",
      "text/plain": [
       "<Figure size 432x288 with 1 Axes>"
      ]
     },
     "metadata": {
      "needs_background": "light"
     },
     "output_type": "display_data"
    }
   ],
   "source": [
    "freq = df['Sex'].value_counts()\n",
    "freq.plot(kind='bar', title='Number of Toddlers by Sex', xlabel='Sex', ylabel='Count')\n",
    "plt.show()"
   ]
  },
  {
   "cell_type": "markdown",
   "id": "484f11e6",
   "metadata": {},
   "source": [
    "The data have twice as many values for male children compared to females."
   ]
  },
  {
   "cell_type": "code",
   "execution_count": 7,
   "id": "54aca14c",
   "metadata": {},
   "outputs": [
    {
     "data": {
      "text/plain": [
       "<AxesSubplot:ylabel='None'>"
      ]
     },
     "execution_count": 7,
     "metadata": {},
     "output_type": "execute_result"
    },
    {
     "data": {
      "image/png": "[encoded data removed]",
      "text/plain": [
       "<Figure size 432x288 with 1 Axes>"
      ]
     },
     "metadata": {},
     "output_type": "display_data"
    }
   ],
   "source": [
    "df.groupby('Ethnicity').size().plot(kind='pie', autopct='%.2f')"
   ]
  },
  {
   "cell_type": "markdown",
   "id": "da714e48",
   "metadata": {},
   "source": [
    "The majority of the participants ethnicity was White Europeans, Asians and Middle Eastern"
   ]
  },
  {
   "cell_type": "markdown",
   "id": "6071c885",
   "metadata": {},
   "source": [
    "Correlation "
   ]
  },
  {
   "cell_type": "code",
   "execution_count": 8,
   "id": "5802ae79",
   "metadata": {},
   "outputs": [
    {
     "data": {
      "text/plain": [
       "<matplotlib.collections.PathCollection at 0x2ac342a5e80>"
      ]
     },
     "execution_count": 8,
     "metadata": {},
     "output_type": "execute_result"
    },
    {
     "data": {
      "image/png": "[encoded data removed]",
      "text/plain": [
       "<Figure size 432x288 with 1 Axes>"
      ]
     },
     "metadata": {
      "needs_background": "light"
     },
     "output_type": "display_data"
    }
   ],
   "source": [
    "colors={'yes':'red', 'no':'blue'}\n",
    "plt.scatter(df[\"Age_Mons\"], df[\"Qchat-10-Score\"], c=df[\"Family_mem_with_ASD\"].map(colors))"
   ]
  },
  {
   "cell_type": "markdown",
   "id": "24bd2621",
   "metadata": {},
   "source": [
    "The chart shows the distribution of age and the total number of yes answer for the question colored that indicates if Autism exist in family history "
   ]
  },
  {
   "cell_type": "markdown",
   "id": "6d513e89",
   "metadata": {},
   "source": [
    "Observation "
   ]
  },
  {
   "cell_type": "markdown",
   "id": "ffb11f9f",
   "metadata": {},
   "source": [
    "The preliminary data exploration shows that the sample has more male participants than females. Also, there is a difference in sample size based on which ethnicity participates. The data has some categorical values that will need to be converted to numberic for data modeling."
   ]
  },
  {
   "cell_type": "markdown",
   "id": "857a1c2b",
   "metadata": {},
   "source": [
    "## Data Preparation"
   ]
  },
  {
   "cell_type": "markdown",
   "id": "9d758bc7",
   "metadata": {},
   "source": [
    " Dropping features"
   ]
  },
  {
   "cell_type": "code",
   "execution_count": 9,
   "id": "f87ad7ec",
   "metadata": {},
   "outputs": [
    {
     "data": {
      "text/html": [
       "<div>\n",
       "<style scoped>\n",
       "    .dataframe tbody tr th:only-of-type {\n",
       "        vertical-align: middle;\n",
       "    }\n",
       "\n",
       "    .dataframe tbody tr th {\n",
       "        vertical-align: top;\n",
       "    }\n",
       "\n",
       "    .dataframe thead th {\n",
       "        text-align: right;\n",
       "    }\n",
       "</style>\n",
       "<table border=\"1\" class=\"dataframe\">\n",
       "  <thead>\n",
       "    <tr style=\"text-align: right;\">\n",
       "      <th></th>\n",
       "      <th>A1</th>\n",
       "      <th>A2</th>\n",
       "      <th>A3</th>\n",
       "      <th>A4</th>\n",
       "      <th>A5</th>\n",
       "      <th>A6</th>\n",
       "      <th>A7</th>\n",
       "      <th>A8</th>\n",
       "      <th>A9</th>\n",
       "      <th>A10</th>\n",
       "      <th>Age_Mons</th>\n",
       "      <th>Sex</th>\n",
       "      <th>Ethnicity</th>\n",
       "      <th>Jaundice</th>\n",
       "      <th>Family_mem_with_ASD</th>\n",
       "      <th>Who completed the test</th>\n",
       "      <th>Class/ASD Traits</th>\n",
       "    </tr>\n",
       "  </thead>\n",
       "  <tbody>\n",
       "    <tr>\n",
       "      <th>0</th>\n",
       "      <td>0</td>\n",
       "      <td>0</td>\n",
       "      <td>0</td>\n",
       "      <td>0</td>\n",
       "      <td>0</td>\n",
       "      <td>0</td>\n",
       "      <td>1</td>\n",
       "      <td>1</td>\n",
       "      <td>0</td>\n",
       "      <td>1</td>\n",
       "      <td>28</td>\n",
       "      <td>f</td>\n",
       "      <td>middle eastern</td>\n",
       "      <td>yes</td>\n",
       "      <td>no</td>\n",
       "      <td>family member</td>\n",
       "      <td>No</td>\n",
       "    </tr>\n",
       "    <tr>\n",
       "      <th>1</th>\n",
       "      <td>1</td>\n",
       "      <td>1</td>\n",
       "      <td>0</td>\n",
       "      <td>0</td>\n",
       "      <td>0</td>\n",
       "      <td>1</td>\n",
       "      <td>1</td>\n",
       "      <td>0</td>\n",
       "      <td>0</td>\n",
       "      <td>0</td>\n",
       "      <td>36</td>\n",
       "      <td>m</td>\n",
       "      <td>White European</td>\n",
       "      <td>yes</td>\n",
       "      <td>no</td>\n",
       "      <td>family member</td>\n",
       "      <td>Yes</td>\n",
       "    </tr>\n",
       "    <tr>\n",
       "      <th>2</th>\n",
       "      <td>1</td>\n",
       "      <td>0</td>\n",
       "      <td>0</td>\n",
       "      <td>0</td>\n",
       "      <td>0</td>\n",
       "      <td>0</td>\n",
       "      <td>1</td>\n",
       "      <td>1</td>\n",
       "      <td>0</td>\n",
       "      <td>1</td>\n",
       "      <td>36</td>\n",
       "      <td>m</td>\n",
       "      <td>middle eastern</td>\n",
       "      <td>yes</td>\n",
       "      <td>no</td>\n",
       "      <td>family member</td>\n",
       "      <td>Yes</td>\n",
       "    </tr>\n",
       "    <tr>\n",
       "      <th>3</th>\n",
       "      <td>1</td>\n",
       "      <td>1</td>\n",
       "      <td>1</td>\n",
       "      <td>1</td>\n",
       "      <td>1</td>\n",
       "      <td>1</td>\n",
       "      <td>1</td>\n",
       "      <td>1</td>\n",
       "      <td>1</td>\n",
       "      <td>1</td>\n",
       "      <td>24</td>\n",
       "      <td>m</td>\n",
       "      <td>Hispanic</td>\n",
       "      <td>no</td>\n",
       "      <td>no</td>\n",
       "      <td>family member</td>\n",
       "      <td>Yes</td>\n",
       "    </tr>\n",
       "    <tr>\n",
       "      <th>4</th>\n",
       "      <td>1</td>\n",
       "      <td>1</td>\n",
       "      <td>0</td>\n",
       "      <td>1</td>\n",
       "      <td>1</td>\n",
       "      <td>1</td>\n",
       "      <td>1</td>\n",
       "      <td>1</td>\n",
       "      <td>1</td>\n",
       "      <td>1</td>\n",
       "      <td>20</td>\n",
       "      <td>f</td>\n",
       "      <td>White European</td>\n",
       "      <td>no</td>\n",
       "      <td>yes</td>\n",
       "      <td>family member</td>\n",
       "      <td>Yes</td>\n",
       "    </tr>\n",
       "  </tbody>\n",
       "</table>\n",
       "</div>"
      ],
      "text/plain": [
       "   A1  A2  A3  A4  A5  A6  A7  A8  A9  A10  Age_Mons Sex       Ethnicity  \\\n",
       "0   0   0   0   0   0   0   1   1   0    1        28   f  middle eastern   \n",
       "1   1   1   0   0   0   1   1   0   0    0        36   m  White European   \n",
       "2   1   0   0   0   0   0   1   1   0    1        36   m  middle eastern   \n",
       "3   1   1   1   1   1   1   1   1   1    1        24   m        Hispanic   \n",
       "4   1   1   0   1   1   1   1   1   1    1        20   f  White European   \n",
       "\n",
       "  Jaundice Family_mem_with_ASD Who completed the test Class/ASD Traits   \n",
       "0      yes                  no          family member                No  \n",
       "1      yes                  no          family member               Yes  \n",
       "2      yes                  no          family member               Yes  \n",
       "3       no                  no          family member               Yes  \n",
       "4       no                 yes          family member               Yes  "
      ]
     },
     "execution_count": 9,
     "metadata": {},
     "output_type": "execute_result"
    }
   ],
   "source": [
    "# Dropping Case_no and Qchat-10 Score\n",
    "df2 = df.drop(['Case_No','Qchat-10-Score'],axis=1)\n",
    "df2.head()"
   ]
  },
  {
   "cell_type": "raw",
   "id": "34da1256",
   "metadata": {},
   "source": [
    "Case_No feature is an indication for indivisual records and is not relevant for the data model. In addition, the Q chart-10 Score column shows the summation of the positive response. Since it is almost the same as the Class/ASD Traits colum it will not be included in the model."
   ]
  },
  {
   "cell_type": "markdown",
   "id": "b2ad0125",
   "metadata": {},
   "source": [
    "Data extraction/selection "
   ]
  },
  {
   "cell_type": "code",
   "execution_count": 10,
   "id": "e9a2baf7",
   "metadata": {},
   "outputs": [
    {
     "data": {
      "text/plain": [
       "array(['family member', 'Health Care Professional',\n",
       "       'Health care professional', 'Self', 'Others'], dtype=object)"
      ]
     },
     "execution_count": 10,
     "metadata": {},
     "output_type": "execute_result"
    }
   ],
   "source": [
    "# Checking the entry for who completed the test\n",
    "df2['Who completed the test'].unique()"
   ]
  },
  {
   "cell_type": "markdown",
   "id": "c10fb625",
   "metadata": {},
   "source": [
    "The result shows Health Care Professional value appear twice."
   ]
  },
  {
   "cell_type": "code",
   "execution_count": 11,
   "id": "ad39521a",
   "metadata": {},
   "outputs": [
    {
     "data": {
      "text/plain": [
       "array(['family member', 'Health care professional', 'Self', 'Others'],\n",
       "      dtype=object)"
      ]
     },
     "execution_count": 11,
     "metadata": {},
     "output_type": "execute_result"
    }
   ],
   "source": [
    "# Standardize values\n",
    "df2['Who completed the test'].replace('Health Care Professional',\\\n",
    "                             'Health care professional', inplace=True)\n",
    "#Checking Unique values again \n",
    "df2['Who completed the test'].unique()"
   ]
  },
  {
   "cell_type": "markdown",
   "id": "fd662103",
   "metadata": {},
   "source": [
    "I will use the data that was completed by family memeber or Health care professionals"
   ]
  },
  {
   "cell_type": "code",
   "execution_count": 12,
   "id": "b94161a9",
   "metadata": {},
   "outputs": [
    {
     "data": {
      "text/plain": [
       "(1047, 17)"
      ]
     },
     "execution_count": 12,
     "metadata": {},
     "output_type": "execute_result"
    }
   ],
   "source": [
    "# Selecting dataframe set based on who completed the test\n",
    "df3= df2.loc[df2['Who completed the test'].\\\n",
    "             isin(['family member', 'Health care professional'])]\n",
    "# Checking the size\n",
    "df3.shape"
   ]
  },
  {
   "cell_type": "markdown",
   "id": "85de7dcd",
   "metadata": {},
   "source": [
    "Engineer new useful features."
   ]
  },
  {
   "cell_type": "markdown",
   "id": "cdf90450",
   "metadata": {},
   "source": [
    "The age of the toddlers range from 12 month  to 36 month. Creating a feature that shows if a todler is above or below two years old can help the model."
   ]
  },
  {
   "cell_type": "code",
   "execution_count": 13,
   "id": "db226527",
   "metadata": {},
   "outputs": [
    {
     "data": {
      "text/plain": [
       "36    316\n",
       "24     69\n",
       "12     67\n",
       "30     66\n",
       "28     42\n",
       "26     36\n",
       "33     36\n",
       "34     34\n",
       "15     31\n",
       "31     30\n",
       "35     30\n",
       "32     30\n",
       "23     28\n",
       "22     27\n",
       "25     26\n",
       "29     24\n",
       "27     23\n",
       "19     21\n",
       "20     21\n",
       "14     18\n",
       "13     18\n",
       "18     16\n",
       "21     13\n",
       "16     13\n",
       "17     12\n",
       "Name: Age_Mons, dtype: int64"
      ]
     },
     "execution_count": 13,
     "metadata": {},
     "output_type": "execute_result"
    }
   ],
   "source": [
    "df3['Age_Mons'].value_counts()"
   ]
  },
  {
   "cell_type": "code",
   "execution_count": 14,
   "id": "0410dd4a",
   "metadata": {},
   "outputs": [],
   "source": [
    "import numpy as np"
   ]
  },
  {
   "cell_type": "code",
   "execution_count": 15,
   "id": "e67188c3",
   "metadata": {},
   "outputs": [
    {
     "name": "stderr",
     "output_type": "stream",
     "text": [
      "C:\\Users\\muluf\\AppData\\Local\\Temp\\ipykernel_21596\\2755740052.py:2: SettingWithCopyWarning: \n",
      "A value is trying to be set on a copy of a slice from a DataFrame.\n",
      "Try using .loc[row_indexer,col_indexer] = value instead\n",
      "\n",
      "See the caveats in the documentation: https://pandas.pydata.org/pandas-docs/stable/user_guide/indexing.html#returning-a-view-versus-a-copy\n",
      "  df3['age_above_below_2year'] = np.where(df3['Age_Mons'] > 24,\\\n"
     ]
    },
    {
     "data": {
      "text/plain": [
       "above_2yr    693\n",
       "below_2yr    354\n",
       "Name: age_above_below_2year, dtype: int64"
      ]
     },
     "execution_count": 15,
     "metadata": {},
     "output_type": "execute_result"
    }
   ],
   "source": [
    "# Creating new column based on age mont\n",
    "df3['age_above_below_2year'] = np.where(df3['Age_Mons'] > 24,\\\n",
    "                                'above_2yr', 'below_2yr')\n",
    "\n",
    "df3['age_above_below_2year'].value_counts()"
   ]
  },
  {
   "cell_type": "markdown",
   "id": "b0b5bbf4",
   "metadata": {},
   "source": [
    "The new column shows most of the toddlers are above 2 years old"
   ]
  },
  {
   "cell_type": "markdown",
   "id": "9ea2adb2",
   "metadata": {},
   "source": [
    "Deal with missing Values"
   ]
  },
  {
   "cell_type": "code",
   "execution_count": 16,
   "id": "53aea160",
   "metadata": {},
   "outputs": [
    {
     "data": {
      "text/plain": [
       "A1                        0\n",
       "A2                        0\n",
       "A3                        0\n",
       "A4                        0\n",
       "A5                        0\n",
       "A6                        0\n",
       "A7                        0\n",
       "A8                        0\n",
       "A9                        0\n",
       "A10                       0\n",
       "Age_Mons                  0\n",
       "Sex                       0\n",
       "Ethnicity                 0\n",
       "Jaundice                  0\n",
       "Family_mem_with_ASD       0\n",
       "Who completed the test    0\n",
       "Class/ASD Traits          0\n",
       "age_above_below_2year     0\n",
       "dtype: int64"
      ]
     },
     "execution_count": 16,
     "metadata": {},
     "output_type": "execute_result"
    }
   ],
   "source": [
    "# Checking for missing values\n",
    "df3.isnull().sum()"
   ]
  },
  {
   "cell_type": "markdown",
   "id": "39527ada",
   "metadata": {},
   "source": [
    "The data do not have any missing values"
   ]
  },
  {
   "cell_type": "markdown",
   "id": "02bd773d",
   "metadata": {},
   "source": [
    "Creating Dummy Variables"
   ]
  },
  {
   "cell_type": "code",
   "execution_count": 17,
   "id": "b705e16b",
   "metadata": {},
   "outputs": [
    {
     "name": "stdout",
     "output_type": "stream",
     "text": [
      "<class 'pandas.core.frame.DataFrame'>\n",
      "Int64Index: 1047 entries, 0 to 1053\n",
      "Data columns (total 18 columns):\n",
      " #   Column                  Non-Null Count  Dtype \n",
      "---  ------                  --------------  ----- \n",
      " 0   A1                      1047 non-null   int64 \n",
      " 1   A2                      1047 non-null   int64 \n",
      " 2   A3                      1047 non-null   int64 \n",
      " 3   A4                      1047 non-null   int64 \n",
      " 4   A5                      1047 non-null   int64 \n",
      " 5   A6                      1047 non-null   int64 \n",
      " 6   A7                      1047 non-null   int64 \n",
      " 7   A8                      1047 non-null   int64 \n",
      " 8   A9                      1047 non-null   int64 \n",
      " 9   A10                     1047 non-null   int64 \n",
      " 10  Age_Mons                1047 non-null   int64 \n",
      " 11  Sex                     1047 non-null   object\n",
      " 12  Ethnicity               1047 non-null   object\n",
      " 13  Jaundice                1047 non-null   object\n",
      " 14  Family_mem_with_ASD     1047 non-null   object\n",
      " 15  Who completed the test  1047 non-null   object\n",
      " 16  Class/ASD Traits        1047 non-null   object\n",
      " 17  age_above_below_2year   1047 non-null   object\n",
      "dtypes: int64(11), object(7)\n",
      "memory usage: 155.4+ KB\n"
     ]
    }
   ],
   "source": [
    "# Checking the data type \n",
    "df3.info()"
   ]
  },
  {
   "cell_type": "markdown",
   "id": "c22b6eea",
   "metadata": {},
   "source": [
    "I will create a dummy varibles for all columns that have object data type"
   ]
  },
  {
   "cell_type": "code",
   "execution_count": 18,
   "id": "2bda9d57",
   "metadata": {},
   "outputs": [
    {
     "data": {
      "text/html": [
       "<div>\n",
       "<style scoped>\n",
       "    .dataframe tbody tr th:only-of-type {\n",
       "        vertical-align: middle;\n",
       "    }\n",
       "\n",
       "    .dataframe tbody tr th {\n",
       "        vertical-align: top;\n",
       "    }\n",
       "\n",
       "    .dataframe thead th {\n",
       "        text-align: right;\n",
       "    }\n",
       "</style>\n",
       "<table border=\"1\" class=\"dataframe\">\n",
       "  <thead>\n",
       "    <tr style=\"text-align: right;\">\n",
       "      <th></th>\n",
       "      <th>A1</th>\n",
       "      <th>A2</th>\n",
       "      <th>A3</th>\n",
       "      <th>A4</th>\n",
       "      <th>A5</th>\n",
       "      <th>A6</th>\n",
       "      <th>A7</th>\n",
       "      <th>A8</th>\n",
       "      <th>A9</th>\n",
       "      <th>A10</th>\n",
       "      <th>...</th>\n",
       "      <th>Jaundice_no</th>\n",
       "      <th>Jaundice_yes</th>\n",
       "      <th>Family_mem_with_ASD_no</th>\n",
       "      <th>Family_mem_with_ASD_yes</th>\n",
       "      <th>Who completed the test_Health care professional</th>\n",
       "      <th>Who completed the test_family member</th>\n",
       "      <th>Class/ASD Traits _No</th>\n",
       "      <th>Class/ASD Traits _Yes</th>\n",
       "      <th>age_above_below_2year_above_2yr</th>\n",
       "      <th>age_above_below_2year_below_2yr</th>\n",
       "    </tr>\n",
       "  </thead>\n",
       "  <tbody>\n",
       "    <tr>\n",
       "      <th>0</th>\n",
       "      <td>0</td>\n",
       "      <td>0</td>\n",
       "      <td>0</td>\n",
       "      <td>0</td>\n",
       "      <td>0</td>\n",
       "      <td>0</td>\n",
       "      <td>1</td>\n",
       "      <td>1</td>\n",
       "      <td>0</td>\n",
       "      <td>1</td>\n",
       "      <td>...</td>\n",
       "      <td>0</td>\n",
       "      <td>1</td>\n",
       "      <td>1</td>\n",
       "      <td>0</td>\n",
       "      <td>0</td>\n",
       "      <td>1</td>\n",
       "      <td>1</td>\n",
       "      <td>0</td>\n",
       "      <td>1</td>\n",
       "      <td>0</td>\n",
       "    </tr>\n",
       "    <tr>\n",
       "      <th>1</th>\n",
       "      <td>1</td>\n",
       "      <td>1</td>\n",
       "      <td>0</td>\n",
       "      <td>0</td>\n",
       "      <td>0</td>\n",
       "      <td>1</td>\n",
       "      <td>1</td>\n",
       "      <td>0</td>\n",
       "      <td>0</td>\n",
       "      <td>0</td>\n",
       "      <td>...</td>\n",
       "      <td>0</td>\n",
       "      <td>1</td>\n",
       "      <td>1</td>\n",
       "      <td>0</td>\n",
       "      <td>0</td>\n",
       "      <td>1</td>\n",
       "      <td>0</td>\n",
       "      <td>1</td>\n",
       "      <td>1</td>\n",
       "      <td>0</td>\n",
       "    </tr>\n",
       "    <tr>\n",
       "      <th>2</th>\n",
       "      <td>1</td>\n",
       "      <td>0</td>\n",
       "      <td>0</td>\n",
       "      <td>0</td>\n",
       "      <td>0</td>\n",
       "      <td>0</td>\n",
       "      <td>1</td>\n",
       "      <td>1</td>\n",
       "      <td>0</td>\n",
       "      <td>1</td>\n",
       "      <td>...</td>\n",
       "      <td>0</td>\n",
       "      <td>1</td>\n",
       "      <td>1</td>\n",
       "      <td>0</td>\n",
       "      <td>0</td>\n",
       "      <td>1</td>\n",
       "      <td>0</td>\n",
       "      <td>1</td>\n",
       "      <td>1</td>\n",
       "      <td>0</td>\n",
       "    </tr>\n",
       "    <tr>\n",
       "      <th>3</th>\n",
       "      <td>1</td>\n",
       "      <td>1</td>\n",
       "      <td>1</td>\n",
       "      <td>1</td>\n",
       "      <td>1</td>\n",
       "      <td>1</td>\n",
       "      <td>1</td>\n",
       "      <td>1</td>\n",
       "      <td>1</td>\n",
       "      <td>1</td>\n",
       "      <td>...</td>\n",
       "      <td>1</td>\n",
       "      <td>0</td>\n",
       "      <td>1</td>\n",
       "      <td>0</td>\n",
       "      <td>0</td>\n",
       "      <td>1</td>\n",
       "      <td>0</td>\n",
       "      <td>1</td>\n",
       "      <td>0</td>\n",
       "      <td>1</td>\n",
       "    </tr>\n",
       "    <tr>\n",
       "      <th>4</th>\n",
       "      <td>1</td>\n",
       "      <td>1</td>\n",
       "      <td>0</td>\n",
       "      <td>1</td>\n",
       "      <td>1</td>\n",
       "      <td>1</td>\n",
       "      <td>1</td>\n",
       "      <td>1</td>\n",
       "      <td>1</td>\n",
       "      <td>1</td>\n",
       "      <td>...</td>\n",
       "      <td>1</td>\n",
       "      <td>0</td>\n",
       "      <td>0</td>\n",
       "      <td>1</td>\n",
       "      <td>0</td>\n",
       "      <td>1</td>\n",
       "      <td>0</td>\n",
       "      <td>1</td>\n",
       "      <td>0</td>\n",
       "      <td>1</td>\n",
       "    </tr>\n",
       "  </tbody>\n",
       "</table>\n",
       "<p>5 rows × 34 columns</p>\n",
       "</div>"
      ],
      "text/plain": [
       "   A1  A2  A3  A4  A5  A6  A7  A8  A9  A10  ...  Jaundice_no  Jaundice_yes  \\\n",
       "0   0   0   0   0   0   0   1   1   0    1  ...            0             1   \n",
       "1   1   1   0   0   0   1   1   0   0    0  ...            0             1   \n",
       "2   1   0   0   0   0   0   1   1   0    1  ...            0             1   \n",
       "3   1   1   1   1   1   1   1   1   1    1  ...            1             0   \n",
       "4   1   1   0   1   1   1   1   1   1    1  ...            1             0   \n",
       "\n",
       "   Family_mem_with_ASD_no  Family_mem_with_ASD_yes  \\\n",
       "0                       1                        0   \n",
       "1                       1                        0   \n",
       "2                       1                        0   \n",
       "3                       1                        0   \n",
       "4                       0                        1   \n",
       "\n",
       "   Who completed the test_Health care professional  \\\n",
       "0                                                0   \n",
       "1                                                0   \n",
       "2                                                0   \n",
       "3                                                0   \n",
       "4                                                0   \n",
       "\n",
       "   Who completed the test_family member  Class/ASD Traits _No  \\\n",
       "0                                     1                     1   \n",
       "1                                     1                     0   \n",
       "2                                     1                     0   \n",
       "3                                     1                     0   \n",
       "4                                     1                     0   \n",
       "\n",
       "   Class/ASD Traits _Yes  age_above_below_2year_above_2yr  \\\n",
       "0                      0                                1   \n",
       "1                      1                                1   \n",
       "2                      1                                1   \n",
       "3                      1                                0   \n",
       "4                      1                                0   \n",
       "\n",
       "   age_above_below_2year_below_2yr  \n",
       "0                                0  \n",
       "1                                0  \n",
       "2                                0  \n",
       "3                                1  \n",
       "4                                1  \n",
       "\n",
       "[5 rows x 34 columns]"
      ]
     },
     "execution_count": 18,
     "metadata": {},
     "output_type": "execute_result"
    }
   ],
   "source": [
    "df3 = pd.get_dummies(data=df3,\n",
    "         columns=[\"Sex\", \"Ethnicity\",\"Jaundice\",\\\n",
    "                  \"Family_mem_with_ASD\",\"Who completed the test\",\\\n",
    "                  \"Class/ASD Traits \",\"age_above_below_2year\"])\n",
    "\n",
    "# Checking cleaned data \n",
    "df3.head()"
   ]
  },
  {
   "cell_type": "code",
   "execution_count": 19,
   "id": "52a6126e",
   "metadata": {},
   "outputs": [
    {
     "data": {
      "text/plain": [
       "(1047, 34)"
      ]
     },
     "execution_count": 19,
     "metadata": {},
     "output_type": "execute_result"
    }
   ],
   "source": [
    "# Size for cleaned data \n",
    "df3.shape"
   ]
  },
  {
   "cell_type": "markdown",
   "id": "b42411b8",
   "metadata": {},
   "source": [
    "## Model Building and Evaluation "
   ]
  },
  {
   "cell_type": "code",
   "execution_count": 20,
   "id": "d807e04e",
   "metadata": {},
   "outputs": [],
   "source": [
    "# Setting the target and the features\n",
    "target = df3['Class/ASD Traits _Yes']\n",
    "# In feature I will exclude both Class/ASD Traits columns\n",
    "features = df3.drop(columns =['Class/ASD Traits _Yes',\\\n",
    "                              'Class/ASD Traits _No'])\n"
   ]
  },
  {
   "cell_type": "code",
   "execution_count": 21,
   "id": "6ba0b87f",
   "metadata": {},
   "outputs": [],
   "source": [
    "# Splitting data to test and train\n",
    "# Loading library \n",
    "from sklearn.model_selection import train_test_split \n",
    "x_train, x_test, y_train, y_test = train_test_split\\\n",
    "(features, target, test_size = 0.2, random_state=10)"
   ]
  },
  {
   "cell_type": "code",
   "execution_count": 22,
   "id": "67bc2d74",
   "metadata": {},
   "outputs": [
    {
     "name": "stdout",
     "output_type": "stream",
     "text": [
      "Train Size: (837, 32)\n",
      "Test Size: (210, 32)\n"
     ]
    }
   ],
   "source": [
    "# Checking size\n",
    "print(\"Train Size: \" + str(x_train.shape))\n",
    "print(\"Test Size: \" + str(x_test.shape))"
   ]
  },
  {
   "cell_type": "code",
   "execution_count": 23,
   "id": "470a8465",
   "metadata": {},
   "outputs": [],
   "source": [
    "# Applying Standardazation \n",
    "from sklearn.preprocessing import LabelEncoder, StandardScaler\n",
    "scaler = StandardScaler()\n",
    "# Applyign scaling and transormation on the train set\n",
    "x_train = scaler.fit_transform(x_train)\n",
    "#Transforming the test set\n",
    "x_test = scaler.transform(x_test)"
   ]
  },
  {
   "cell_type": "code",
   "execution_count": 24,
   "id": "6e6ddbd1",
   "metadata": {},
   "outputs": [],
   "source": [
    "# Model\n",
    "# Using Logistic Regression\n",
    "from sklearn.linear_model import LogisticRegression\n",
    "model = LogisticRegression()"
   ]
  },
  {
   "cell_type": "code",
   "execution_count": 25,
   "id": "027a01fc",
   "metadata": {},
   "outputs": [
    {
     "data": {
      "text/plain": [
       "LogisticRegression()"
      ]
     },
     "execution_count": 25,
     "metadata": {},
     "output_type": "execute_result"
    }
   ],
   "source": [
    "# Fitting model\n",
    "model.fit(x_train, y_train)"
   ]
  },
  {
   "cell_type": "code",
   "execution_count": 26,
   "id": "f5d26d79",
   "metadata": {},
   "outputs": [],
   "source": [
    "# Predicting \n",
    "y_pred = model.predict(x_test)"
   ]
  },
  {
   "cell_type": "code",
   "execution_count": 27,
   "id": "5c1d5022",
   "metadata": {},
   "outputs": [],
   "source": [
    "# Evaluation \n",
    "from sklearn.metrics import confusion_matrix,ConfusionMatrixDisplay, \\\n",
    "accuracy_score, roc_auc_score"
   ]
  },
  {
   "cell_type": "code",
   "execution_count": 28,
   "id": "df17dee7",
   "metadata": {},
   "outputs": [
    {
     "name": "stdout",
     "output_type": "stream",
     "text": [
      "[[ 61   1]\n",
      " [  0 148]]\n"
     ]
    }
   ],
   "source": [
    "# Getting the confusion metrix\n",
    "cm = confusion_matrix(y_test, y_pred)\n",
    "print(cm)"
   ]
  },
  {
   "cell_type": "code",
   "execution_count": 29,
   "id": "5f3f1ec2",
   "metadata": {},
   "outputs": [
    {
     "data": {
      "text/plain": [
       "<sklearn.metrics._plot.confusion_matrix.ConfusionMatrixDisplay at 0x2ac342c4520>"
      ]
     },
     "execution_count": 29,
     "metadata": {},
     "output_type": "execute_result"
    },
    {
     "data": {
      "image/png": "[encoded data removed]",
      "text/plain": [
       "<Figure size 432x288 with 2 Axes>"
      ]
     },
     "metadata": {
      "needs_background": "light"
     },
     "output_type": "display_data"
    }
   ],
   "source": [
    "# Visualizing Confusion Matrix\n",
    "ConfusionMatrixDisplay(cm).plot()"
   ]
  },
  {
   "cell_type": "code",
   "execution_count": 30,
   "id": "23f92f22",
   "metadata": {},
   "outputs": [
    {
     "name": "stdout",
     "output_type": "stream",
     "text": [
      "Accuracy: 0.9952380952380953\n",
      "AUC: 0.9919354838709677\n"
     ]
    }
   ],
   "source": [
    "# Getting Accuracy\n",
    "model_accuracy=accuracy_score(y_test,y_pred)\n",
    "model_auc = roc_auc_score(y_test, y_pred)\n",
    "print(\"Accuracy: \"+ str(model_accuracy))\n",
    "print(\"AUC: \"+ str(model_auc))"
   ]
  },
  {
   "cell_type": "code",
   "execution_count": 31,
   "id": "3c60ea6a",
   "metadata": {},
   "outputs": [
    {
     "name": "stdout",
     "output_type": "stream",
     "text": [
      "              precision    recall  f1-score   support\n",
      "\n",
      "           0       1.00      0.98      0.99        62\n",
      "           1       0.99      1.00      1.00       148\n",
      "\n",
      "    accuracy                           1.00       210\n",
      "   macro avg       1.00      0.99      0.99       210\n",
      "weighted avg       1.00      1.00      1.00       210\n",
      "\n"
     ]
    }
   ],
   "source": [
    "# Getting the F1 score, Precision and recalls \n",
    "import sklearn.metrics as metrics\n",
    "print(metrics.classification_report(y_test, y_pred))"
   ]
  },
  {
   "cell_type": "markdown",
   "id": "545e28ac",
   "metadata": {},
   "source": [
    "### Evaluation/ Recomendation "
   ]
  },
  {
   "cell_type": "markdown",
   "id": "ec0216fc",
   "metadata": {},
   "source": [
    "This research aimed to predict the category of Autism traits based on answers to different factors. Since this classification has only two possible outcomes, a logistic regression model was used. The model results with high accuracy with a score of 99.5%. The confusion matrix also shows the model only has only one False Positive. I plan to test the model further for overfitting and adjusting for data size imbalance for the different categories.."
   ]
  },
  {
   "cell_type": "markdown",
   "id": "1d6303da",
   "metadata": {},
   "source": [
    "### Additional Details Added Since Last Milestone "
   ]
  },
  {
   "cell_type": "code",
   "execution_count": 34,
   "id": "2cdb5ae1",
   "metadata": {},
   "outputs": [],
   "source": [
    "# Updates Change made\n",
    "# Dropping the question Columns from the features set \n",
    "\n",
    "# Setting the target and the features\n",
    "target2 = df3['Class/ASD Traits _Yes']\n",
    "# In feature I will exclude both Class/ASD Traits columns\n",
    "features2 = df3.drop(columns =['Class/ASD Traits _Yes',\\\n",
    "                              'Class/ASD Traits _No','A1','A2','A3',\\\n",
    "                               'A4','A5','A6','A7','A8','A9','A10'])\n"
   ]
  },
  {
   "cell_type": "code",
   "execution_count": 45,
   "id": "d498df10",
   "metadata": {},
   "outputs": [],
   "source": [
    "## Splitting data to test and train again \n",
    "x_train2, x_test2, y_train2, y_test2 = train_test_split\\\n",
    "(features2, target2, test_size = 0.2, random_state=10)"
   ]
  },
  {
   "cell_type": "code",
   "execution_count": 46,
   "id": "25261625",
   "metadata": {},
   "outputs": [
    {
     "name": "stdout",
     "output_type": "stream",
     "text": [
      "Train Size: (837, 22)\n",
      "Test Size: (210, 22)\n"
     ]
    }
   ],
   "source": [
    "# Checking size\n",
    "print(\"Train Size: \" + str(x_train2.shape))\n",
    "print(\"Test Size: \" + str(x_test2.shape))"
   ]
  },
  {
   "cell_type": "code",
   "execution_count": 47,
   "id": "84ba95fc",
   "metadata": {},
   "outputs": [],
   "source": [
    "# Applying Standardazation \n",
    "scaler = StandardScaler()\n",
    "# Applyign scaling and transormation on the train set\n",
    "x_train2 = scaler.fit_transform(x_train2)\n",
    "#Transforming the test set\n",
    "x_test2 = scaler.transform(x_test2)"
   ]
  },
  {
   "cell_type": "code",
   "execution_count": 48,
   "id": "09315a10",
   "metadata": {},
   "outputs": [],
   "source": [
    "# logistic regression will be used again\n",
    "mode2 = LogisticRegression()"
   ]
  },
  {
   "cell_type": "code",
   "execution_count": 49,
   "id": "d3e220d9",
   "metadata": {},
   "outputs": [
    {
     "data": {
      "text/plain": [
       "LogisticRegression()"
      ]
     },
     "execution_count": 49,
     "metadata": {},
     "output_type": "execute_result"
    }
   ],
   "source": [
    "# Fitting model\n",
    "model.fit(x_train2, y_train2)"
   ]
  },
  {
   "cell_type": "code",
   "execution_count": 50,
   "id": "972bfc3f",
   "metadata": {},
   "outputs": [],
   "source": [
    "# Predicting \n",
    "y_pred2 = model.predict(x_test2)"
   ]
  },
  {
   "cell_type": "code",
   "execution_count": 51,
   "id": "dbf3bb1e",
   "metadata": {},
   "outputs": [
    {
     "name": "stdout",
     "output_type": "stream",
     "text": [
      "[[ 12  50]\n",
      " [ 16 132]]\n"
     ]
    }
   ],
   "source": [
    "# Getting the confusion metrix\n",
    "cm2= confusion_matrix(y_test2, y_pred2)\n",
    "print(cm2)"
   ]
  },
  {
   "cell_type": "code",
   "execution_count": 52,
   "id": "4f4218d3",
   "metadata": {},
   "outputs": [
    {
     "data": {
      "text/plain": [
       "<sklearn.metrics._plot.confusion_matrix.ConfusionMatrixDisplay at 0x2ac341bd580>"
      ]
     },
     "execution_count": 52,
     "metadata": {},
     "output_type": "execute_result"
    },
    {
     "data": {
      "image/png": "[encoded data removed]",
      "text/plain": [
       "<Figure size 432x288 with 2 Axes>"
      ]
     },
     "metadata": {
      "needs_background": "light"
     },
     "output_type": "display_data"
    }
   ],
   "source": [
    "# Visualizing Confusion Matrix\n",
    "ConfusionMatrixDisplay(cm2).plot()"
   ]
  },
  {
   "cell_type": "code",
   "execution_count": 53,
   "id": "46fa27cf",
   "metadata": {},
   "outputs": [
    {
     "name": "stdout",
     "output_type": "stream",
     "text": [
      "Accuracy: 0.6857142857142857\n",
      "AUC: 0.5427201394943331\n"
     ]
    }
   ],
   "source": [
    "# Getting Accuracy\n",
    "model_accuracy2=accuracy_score(y_test2,y_pred2)\n",
    "model_auc2 = roc_auc_score(y_test2, y_pred2)\n",
    "print(\"Accuracy: \"+ str(model_accuracy2))\n",
    "print(\"AUC: \"+ str(model_auc2))"
   ]
  },
  {
   "cell_type": "code",
   "execution_count": 58,
   "id": "dccf356b",
   "metadata": {},
   "outputs": [
    {
     "data": {
      "image/png": "[encoded data removed]",
      "text/plain": [
       "<Figure size 864x648 with 2 Axes>"
      ]
     },
     "metadata": {
      "needs_background": "light"
     },
     "output_type": "display_data"
    }
   ],
   "source": [
    "# Added to show correlation  \n",
    "import seaborn as sns\n",
    "plt.figure(figsize=(12, 9));\n",
    "correlation_matrix = df.corr().round(2);\n",
    "sns.heatmap(correlation_matrix, cmap=\"YlGnBu\", annot=True);"
   ]
  },
  {
   "cell_type": "code",
   "execution_count": null,
   "id": "a38f2790",
   "metadata": {},
   "outputs": [],
   "source": []
  }
 ],
 "metadata": {
  "kernelspec": {
   "display_name": "Python 3 (ipykernel)",
   "language": "python",
   "name": "python3"
  },
  "language_info": {
   "codemirror_mode": {
    "name": "ipython",
    "version": 3
   },
   "file_extension": ".py",
   "mimetype": "text/x-python",
   "name": "python",
   "nbconvert_exporter": "python",
   "pygments_lexer": "ipython3",
   "version": "3.9.12"
  }
 },
 "nbformat": 4,
 "nbformat_minor": 5
}
