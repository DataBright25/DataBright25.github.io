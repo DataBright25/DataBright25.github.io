{
 "cells": [
  {
   "cell_type": "markdown",
   "id": "fd89a98a",
   "metadata": {},
   "source": [
    "#### Predicting the Number of Installations for the Google Play Store Apps"
   ]
  },
  {
   "cell_type": "markdown",
   "id": "c6b30b36",
   "metadata": {},
   "source": [
    "### 1. Getting Data and Explanatory Data Analysis "
   ]
  },
  {
   "cell_type": "code",
   "execution_count": 2,
   "id": "7500705b",
   "metadata": {},
   "outputs": [],
   "source": [
    "# Import libraries \n",
    "import pandas as pd\n",
    "import numpy as np\n",
    "from sklearn.preprocessing import OneHotEncoder \n",
    "\n",
    "# for Visualization \n",
    "import missingno as mn\n",
    "from IPython import get_ipython\n",
    "import matplotlib.pyplot as plt\n",
    "import seaborn as sns\n",
    "\n",
    "# For Model \n",
    "from sklearn.linear_model import LinearRegression\n",
    "from sklearn.ensemble import GradientBoostingRegressor\n",
    "from sklearn.model_selection import train_test_split\n",
    "from sklearn.model_selection import cross_val_score\n",
    "from sklearn.metrics import accuracy_score\n",
    "from sklearn import metrics\n",
    "\n",
    "# For handling Warning Messages\n",
    "import warnings\n",
    "warnings.filterwarnings('ignore')\n",
    "warnings.simplefilter('ignore')\n",
    "\n"
   ]
  },
  {
   "cell_type": "code",
   "execution_count": 3,
   "id": "522d5eeb",
   "metadata": {},
   "outputs": [],
   "source": [
    "# Getting Data \n",
    "df=pd.read_csv(\"Google_Playstore_data.csv\")"
   ]
  },
  {
   "cell_type": "code",
   "execution_count": 4,
   "id": "f0ea63f2",
   "metadata": {},
   "outputs": [
    {
     "data": {
      "text/html": [
       "<div>\n",
       "<style scoped>\n",
       "    .dataframe tbody tr th:only-of-type {\n",
       "        vertical-align: middle;\n",
       "    }\n",
       "\n",
       "    .dataframe tbody tr th {\n",
       "        vertical-align: top;\n",
       "    }\n",
       "\n",
       "    .dataframe thead th {\n",
       "        text-align: right;\n",
       "    }\n",
       "</style>\n",
       "<table border=\"1\" class=\"dataframe\">\n",
       "  <thead>\n",
       "    <tr style=\"text-align: right;\">\n",
       "      <th></th>\n",
       "      <th>App Name</th>\n",
       "      <th>App Id</th>\n",
       "      <th>Category</th>\n",
       "      <th>Rating</th>\n",
       "      <th>Rating Count</th>\n",
       "      <th>Installs</th>\n",
       "      <th>Minimum Installs</th>\n",
       "      <th>Maximum Installs</th>\n",
       "      <th>Free</th>\n",
       "      <th>Price</th>\n",
       "      <th>...</th>\n",
       "      <th>Developer Website</th>\n",
       "      <th>Developer Email</th>\n",
       "      <th>Released</th>\n",
       "      <th>Last Updated</th>\n",
       "      <th>Content Rating</th>\n",
       "      <th>Privacy Policy</th>\n",
       "      <th>Ad Supported</th>\n",
       "      <th>In App Purchases</th>\n",
       "      <th>Editors Choice</th>\n",
       "      <th>Scraped Time</th>\n",
       "    </tr>\n",
       "  </thead>\n",
       "  <tbody>\n",
       "    <tr>\n",
       "      <th>0</th>\n",
       "      <td>Gakondo</td>\n",
       "      <td>com.ishakwe.gakondo</td>\n",
       "      <td>Adventure</td>\n",
       "      <td>0.0</td>\n",
       "      <td>0.0</td>\n",
       "      <td>10+</td>\n",
       "      <td>10.0</td>\n",
       "      <td>15</td>\n",
       "      <td>True</td>\n",
       "      <td>0.0</td>\n",
       "      <td>...</td>\n",
       "      <td>https://beniyizibyose.tk/#/</td>\n",
       "      <td>jean21101999@gmail.com</td>\n",
       "      <td>Feb 26, 2020</td>\n",
       "      <td>Feb 26, 2020</td>\n",
       "      <td>Everyone</td>\n",
       "      <td>https://beniyizibyose.tk/projects/</td>\n",
       "      <td>False</td>\n",
       "      <td>False</td>\n",
       "      <td>False</td>\n",
       "      <td>2021-06-15 20:19:35</td>\n",
       "    </tr>\n",
       "    <tr>\n",
       "      <th>1</th>\n",
       "      <td>Ampere Battery Info</td>\n",
       "      <td>com.webserveis.batteryinfo</td>\n",
       "      <td>Tools</td>\n",
       "      <td>4.4</td>\n",
       "      <td>64.0</td>\n",
       "      <td>5,000+</td>\n",
       "      <td>5000.0</td>\n",
       "      <td>7662</td>\n",
       "      <td>True</td>\n",
       "      <td>0.0</td>\n",
       "      <td>...</td>\n",
       "      <td>https://webserveis.netlify.app/</td>\n",
       "      <td>webserveis@gmail.com</td>\n",
       "      <td>May 21, 2020</td>\n",
       "      <td>May 06, 2021</td>\n",
       "      <td>Everyone</td>\n",
       "      <td>https://dev4phones.wordpress.com/licencia-de-uso/</td>\n",
       "      <td>True</td>\n",
       "      <td>False</td>\n",
       "      <td>False</td>\n",
       "      <td>2021-06-15 20:19:35</td>\n",
       "    </tr>\n",
       "    <tr>\n",
       "      <th>2</th>\n",
       "      <td>Vibook</td>\n",
       "      <td>com.doantiepvien.crm</td>\n",
       "      <td>Productivity</td>\n",
       "      <td>0.0</td>\n",
       "      <td>0.0</td>\n",
       "      <td>50+</td>\n",
       "      <td>50.0</td>\n",
       "      <td>58</td>\n",
       "      <td>True</td>\n",
       "      <td>0.0</td>\n",
       "      <td>...</td>\n",
       "      <td>NaN</td>\n",
       "      <td>vnacrewit@gmail.com</td>\n",
       "      <td>Aug 9, 2019</td>\n",
       "      <td>Aug 19, 2019</td>\n",
       "      <td>Everyone</td>\n",
       "      <td>https://www.vietnamairlines.com/vn/en/terms-an...</td>\n",
       "      <td>False</td>\n",
       "      <td>False</td>\n",
       "      <td>False</td>\n",
       "      <td>2021-06-15 20:19:35</td>\n",
       "    </tr>\n",
       "    <tr>\n",
       "      <th>3</th>\n",
       "      <td>Smart City Trichy Public Service Vehicles 17UC...</td>\n",
       "      <td>cst.stJoseph.ug17ucs548</td>\n",
       "      <td>Communication</td>\n",
       "      <td>5.0</td>\n",
       "      <td>5.0</td>\n",
       "      <td>10+</td>\n",
       "      <td>10.0</td>\n",
       "      <td>19</td>\n",
       "      <td>True</td>\n",
       "      <td>0.0</td>\n",
       "      <td>...</td>\n",
       "      <td>http://www.climatesmarttech.com/</td>\n",
       "      <td>climatesmarttech2@gmail.com</td>\n",
       "      <td>Sep 10, 2018</td>\n",
       "      <td>Oct 13, 2018</td>\n",
       "      <td>Everyone</td>\n",
       "      <td>NaN</td>\n",
       "      <td>True</td>\n",
       "      <td>False</td>\n",
       "      <td>False</td>\n",
       "      <td>2021-06-15 20:19:35</td>\n",
       "    </tr>\n",
       "    <tr>\n",
       "      <th>4</th>\n",
       "      <td>GROW.me</td>\n",
       "      <td>com.horodyski.grower</td>\n",
       "      <td>Tools</td>\n",
       "      <td>0.0</td>\n",
       "      <td>0.0</td>\n",
       "      <td>100+</td>\n",
       "      <td>100.0</td>\n",
       "      <td>478</td>\n",
       "      <td>True</td>\n",
       "      <td>0.0</td>\n",
       "      <td>...</td>\n",
       "      <td>http://www.horodyski.com.pl</td>\n",
       "      <td>rmilekhorodyski@gmail.com</td>\n",
       "      <td>Feb 21, 2020</td>\n",
       "      <td>Nov 12, 2018</td>\n",
       "      <td>Everyone</td>\n",
       "      <td>http://www.horodyski.com.pl</td>\n",
       "      <td>False</td>\n",
       "      <td>False</td>\n",
       "      <td>False</td>\n",
       "      <td>2021-06-15 20:19:35</td>\n",
       "    </tr>\n",
       "  </tbody>\n",
       "</table>\n",
       "<p>5 rows × 24 columns</p>\n",
       "</div>"
      ],
      "text/plain": [
       "                                            App Name  \\\n",
       "0                                            Gakondo   \n",
       "1                                Ampere Battery Info   \n",
       "2                                             Vibook   \n",
       "3  Smart City Trichy Public Service Vehicles 17UC...   \n",
       "4                                            GROW.me   \n",
       "\n",
       "                       App Id       Category  Rating  Rating Count Installs  \\\n",
       "0         com.ishakwe.gakondo      Adventure     0.0           0.0      10+   \n",
       "1  com.webserveis.batteryinfo          Tools     4.4          64.0   5,000+   \n",
       "2        com.doantiepvien.crm   Productivity     0.0           0.0      50+   \n",
       "3     cst.stJoseph.ug17ucs548  Communication     5.0           5.0      10+   \n",
       "4        com.horodyski.grower          Tools     0.0           0.0     100+   \n",
       "\n",
       "   Minimum Installs  Maximum Installs  Free  Price  ...  \\\n",
       "0              10.0                15  True    0.0  ...   \n",
       "1            5000.0              7662  True    0.0  ...   \n",
       "2              50.0                58  True    0.0  ...   \n",
       "3              10.0                19  True    0.0  ...   \n",
       "4             100.0               478  True    0.0  ...   \n",
       "\n",
       "                  Developer Website              Developer Email  \\\n",
       "0       https://beniyizibyose.tk/#/       jean21101999@gmail.com   \n",
       "1   https://webserveis.netlify.app/         webserveis@gmail.com   \n",
       "2                               NaN          vnacrewit@gmail.com   \n",
       "3  http://www.climatesmarttech.com/  climatesmarttech2@gmail.com   \n",
       "4       http://www.horodyski.com.pl    rmilekhorodyski@gmail.com   \n",
       "\n",
       "       Released  Last Updated Content Rating  \\\n",
       "0  Feb 26, 2020  Feb 26, 2020       Everyone   \n",
       "1  May 21, 2020  May 06, 2021       Everyone   \n",
       "2   Aug 9, 2019  Aug 19, 2019       Everyone   \n",
       "3  Sep 10, 2018  Oct 13, 2018       Everyone   \n",
       "4  Feb 21, 2020  Nov 12, 2018       Everyone   \n",
       "\n",
       "                                      Privacy Policy Ad Supported  \\\n",
       "0                 https://beniyizibyose.tk/projects/        False   \n",
       "1  https://dev4phones.wordpress.com/licencia-de-uso/         True   \n",
       "2  https://www.vietnamairlines.com/vn/en/terms-an...        False   \n",
       "3                                                NaN         True   \n",
       "4                        http://www.horodyski.com.pl        False   \n",
       "\n",
       "  In App Purchases Editors Choice         Scraped Time  \n",
       "0            False          False  2021-06-15 20:19:35  \n",
       "1            False          False  2021-06-15 20:19:35  \n",
       "2            False          False  2021-06-15 20:19:35  \n",
       "3            False          False  2021-06-15 20:19:35  \n",
       "4            False          False  2021-06-15 20:19:35  \n",
       "\n",
       "[5 rows x 24 columns]"
      ]
     },
     "execution_count": 4,
     "metadata": {},
     "output_type": "execute_result"
    }
   ],
   "source": [
    "# Top 5 rows of data\n",
    "df.head()"
   ]
  },
  {
   "cell_type": "code",
   "execution_count": 5,
   "id": "9896ef88",
   "metadata": {},
   "outputs": [
    {
     "data": {
      "text/plain": [
       "(2312944, 24)"
      ]
     },
     "execution_count": 5,
     "metadata": {},
     "output_type": "execute_result"
    }
   ],
   "source": [
    "# Data size \n",
    "df.shape"
   ]
  },
  {
   "cell_type": "code",
   "execution_count": 6,
   "id": "b346fcfd",
   "metadata": {},
   "outputs": [
    {
     "name": "stdout",
     "output_type": "stream",
     "text": [
      "<class 'pandas.core.frame.DataFrame'>\n",
      "RangeIndex: 2312944 entries, 0 to 2312943\n",
      "Data columns (total 24 columns):\n",
      " #   Column             Dtype  \n",
      "---  ------             -----  \n",
      " 0   App Name           object \n",
      " 1   App Id             object \n",
      " 2   Category           object \n",
      " 3   Rating             float64\n",
      " 4   Rating Count       float64\n",
      " 5   Installs           object \n",
      " 6   Minimum Installs   float64\n",
      " 7   Maximum Installs   int64  \n",
      " 8   Free               bool   \n",
      " 9   Price              float64\n",
      " 10  Currency           object \n",
      " 11  Size               object \n",
      " 12  Minimum Android    object \n",
      " 13  Developer Id       object \n",
      " 14  Developer Website  object \n",
      " 15  Developer Email    object \n",
      " 16  Released           object \n",
      " 17  Last Updated       object \n",
      " 18  Content Rating     object \n",
      " 19  Privacy Policy     object \n",
      " 20  Ad Supported       bool   \n",
      " 21  In App Purchases   bool   \n",
      " 22  Editors Choice     bool   \n",
      " 23  Scraped Time       object \n",
      "dtypes: bool(4), float64(4), int64(1), object(15)\n",
      "memory usage: 361.8+ MB\n"
     ]
    }
   ],
   "source": [
    "# Columns Data Types\n",
    "df.info()"
   ]
  },
  {
   "cell_type": "code",
   "execution_count": 7,
   "id": "2b1d5960",
   "metadata": {},
   "outputs": [
    {
     "data": {
      "text/html": [
       "<div>\n",
       "<style scoped>\n",
       "    .dataframe tbody tr th:only-of-type {\n",
       "        vertical-align: middle;\n",
       "    }\n",
       "\n",
       "    .dataframe tbody tr th {\n",
       "        vertical-align: top;\n",
       "    }\n",
       "\n",
       "    .dataframe thead th {\n",
       "        text-align: right;\n",
       "    }\n",
       "</style>\n",
       "<table border=\"1\" class=\"dataframe\">\n",
       "  <thead>\n",
       "    <tr style=\"text-align: right;\">\n",
       "      <th></th>\n",
       "      <th>Rating</th>\n",
       "      <th>Rating Count</th>\n",
       "      <th>Minimum Installs</th>\n",
       "      <th>Maximum Installs</th>\n",
       "      <th>Price</th>\n",
       "    </tr>\n",
       "  </thead>\n",
       "  <tbody>\n",
       "    <tr>\n",
       "      <th>count</th>\n",
       "      <td>2.290061e+06</td>\n",
       "      <td>2.290061e+06</td>\n",
       "      <td>2.312837e+06</td>\n",
       "      <td>2.312944e+06</td>\n",
       "      <td>2.312944e+06</td>\n",
       "    </tr>\n",
       "    <tr>\n",
       "      <th>mean</th>\n",
       "      <td>2.203152e+00</td>\n",
       "      <td>2.864839e+03</td>\n",
       "      <td>1.834452e+05</td>\n",
       "      <td>3.202017e+05</td>\n",
       "      <td>1.034992e-01</td>\n",
       "    </tr>\n",
       "    <tr>\n",
       "      <th>std</th>\n",
       "      <td>2.106223e+00</td>\n",
       "      <td>2.121626e+05</td>\n",
       "      <td>1.513144e+07</td>\n",
       "      <td>2.355495e+07</td>\n",
       "      <td>2.633127e+00</td>\n",
       "    </tr>\n",
       "    <tr>\n",
       "      <th>min</th>\n",
       "      <td>0.000000e+00</td>\n",
       "      <td>0.000000e+00</td>\n",
       "      <td>0.000000e+00</td>\n",
       "      <td>0.000000e+00</td>\n",
       "      <td>0.000000e+00</td>\n",
       "    </tr>\n",
       "    <tr>\n",
       "      <th>25%</th>\n",
       "      <td>0.000000e+00</td>\n",
       "      <td>0.000000e+00</td>\n",
       "      <td>5.000000e+01</td>\n",
       "      <td>8.400000e+01</td>\n",
       "      <td>0.000000e+00</td>\n",
       "    </tr>\n",
       "    <tr>\n",
       "      <th>50%</th>\n",
       "      <td>2.900000e+00</td>\n",
       "      <td>6.000000e+00</td>\n",
       "      <td>5.000000e+02</td>\n",
       "      <td>6.950000e+02</td>\n",
       "      <td>0.000000e+00</td>\n",
       "    </tr>\n",
       "    <tr>\n",
       "      <th>75%</th>\n",
       "      <td>4.300000e+00</td>\n",
       "      <td>4.200000e+01</td>\n",
       "      <td>5.000000e+03</td>\n",
       "      <td>7.354000e+03</td>\n",
       "      <td>0.000000e+00</td>\n",
       "    </tr>\n",
       "    <tr>\n",
       "      <th>max</th>\n",
       "      <td>5.000000e+00</td>\n",
       "      <td>1.385576e+08</td>\n",
       "      <td>1.000000e+10</td>\n",
       "      <td>1.205763e+10</td>\n",
       "      <td>4.000000e+02</td>\n",
       "    </tr>\n",
       "  </tbody>\n",
       "</table>\n",
       "</div>"
      ],
      "text/plain": [
       "             Rating  Rating Count  Minimum Installs  Maximum Installs  \\\n",
       "count  2.290061e+06  2.290061e+06      2.312837e+06      2.312944e+06   \n",
       "mean   2.203152e+00  2.864839e+03      1.834452e+05      3.202017e+05   \n",
       "std    2.106223e+00  2.121626e+05      1.513144e+07      2.355495e+07   \n",
       "min    0.000000e+00  0.000000e+00      0.000000e+00      0.000000e+00   \n",
       "25%    0.000000e+00  0.000000e+00      5.000000e+01      8.400000e+01   \n",
       "50%    2.900000e+00  6.000000e+00      5.000000e+02      6.950000e+02   \n",
       "75%    4.300000e+00  4.200000e+01      5.000000e+03      7.354000e+03   \n",
       "max    5.000000e+00  1.385576e+08      1.000000e+10      1.205763e+10   \n",
       "\n",
       "              Price  \n",
       "count  2.312944e+06  \n",
       "mean   1.034992e-01  \n",
       "std    2.633127e+00  \n",
       "min    0.000000e+00  \n",
       "25%    0.000000e+00  \n",
       "50%    0.000000e+00  \n",
       "75%    0.000000e+00  \n",
       "max    4.000000e+02  "
      ]
     },
     "execution_count": 7,
     "metadata": {},
     "output_type": "execute_result"
    }
   ],
   "source": [
    "# Stastical summary for numeric features\n",
    "df.describe()"
   ]
  },
  {
   "cell_type": "code",
   "execution_count": 8,
   "id": "5104fee3",
   "metadata": {},
   "outputs": [
    {
     "data": {
      "text/plain": [
       "<AxesSubplot:>"
      ]
     },
     "execution_count": 8,
     "metadata": {},
     "output_type": "execute_result"
    },
    {
     "data": {
      "image/png": "[encoded data removed]",
      "text/plain": [
       "<Figure size 720x432 with 2 Axes>"
      ]
     },
     "metadata": {
      "needs_background": "light"
     },
     "output_type": "display_data"
    }
   ],
   "source": [
    "# Checking the comppletensss of the data using sample \n",
    "get_ipython().run_line_magic('matplotlib', 'inline')\n",
    "mn.matrix(df.sample(1000), figsize=(10,6))"
   ]
  },
  {
   "cell_type": "markdown",
   "id": "5f524fa4",
   "metadata": {},
   "source": [
    "The plot shows using a random sample when checking the avaliblity data, we can see data for Developer website, Privacy Policy, Released date are relativel scarse than others."
   ]
  },
  {
   "cell_type": "code",
   "execution_count": 9,
   "id": "208c2605",
   "metadata": {},
   "outputs": [
    {
     "data": {
      "text/plain": [
       "<AxesSubplot:>"
      ]
     },
     "execution_count": 9,
     "metadata": {},
     "output_type": "execute_result"
    },
    {
     "data": {
      "image/png": "[encoded data removed]",
      "text/plain": [
       "<Figure size 720x432 with 3 Axes>"
      ]
     },
     "metadata": {
      "needs_background": "light"
     },
     "output_type": "display_data"
    }
   ],
   "source": [
    "# Checking completness of columns with row count\n",
    "mn.bar(df, figsize=(10,6))"
   ]
  },
  {
   "cell_type": "code",
   "execution_count": 10,
   "id": "3e8a41cd",
   "metadata": {},
   "outputs": [
    {
     "data": {
      "image/png": "[encoded data removed]",
      "text/plain": [
       "<Figure size 360x360 with 1 Axes>"
      ]
     },
     "metadata": {},
     "output_type": "display_data"
    }
   ],
   "source": [
    "# Distribution of Ratings with Maximum number of Installs \n",
    "sns.set_context(\"notebook\", font_scale=1.1)\n",
    "sns.set_style(\"ticks\")\n",
    "sns.lmplot('Rating', 'Maximum Installs',\n",
    "           data=df,\n",
    "           fit_reg=True,\n",
    "           scatter_kws={\"marker\": \"D\",\n",
    "                        \"s\": 10})\n",
    "plt.show()"
   ]
  },
  {
   "cell_type": "markdown",
   "id": "a8c1c260",
   "metadata": {},
   "source": [
    "Apps with highest number of installations seems wo have high rating."
   ]
  },
  {
   "cell_type": "code",
   "execution_count": 92,
   "id": "0174adef",
   "metadata": {},
   "outputs": [
    {
     "data": {
      "text/plain": [
       "98.05148762788896"
      ]
     },
     "execution_count": 92,
     "metadata": {},
     "output_type": "execute_result"
    }
   ],
   "source": [
    "# Percent of Free apps \n",
    "len(df[df['Free']==True])/len(df['Free'])*100"
   ]
  },
  {
   "cell_type": "code",
   "execution_count": 83,
   "id": "3107ce4d",
   "metadata": {},
   "outputs": [
    {
     "name": "stdout",
     "output_type": "stream",
     "text": [
      "48\n"
     ]
    }
   ],
   "source": [
    "# counting unique values\n",
    "category_count = len(pd.unique(df['Category']))\n",
    "print(category_count)"
   ]
  },
  {
   "cell_type": "code",
   "execution_count": 53,
   "id": "5da7d137",
   "metadata": {},
   "outputs": [
    {
     "data": {
      "image/png": "[encoded data removed]",
      "text/plain": [
       "<Figure size 1296x756 with 1 Axes>"
      ]
     },
     "metadata": {},
     "output_type": "display_data"
    }
   ],
   "source": [
    "# Displaying number of APPs by Category\n",
    "plt.figure(figsize=(18, 10.5))\n",
    "genres = df['Category'].value_counts()[:40]\n",
    "ax = sns.barplot(x=genres.values, y=genres.index, palette=\"PuBuGn_d\")\n"
   ]
  },
  {
   "cell_type": "code",
   "execution_count": 77,
   "id": "27d11e49",
   "metadata": {},
   "outputs": [
    {
     "data": {
      "text/plain": [
       "<Figure size 2880x2880 with 0 Axes>"
      ]
     },
     "metadata": {},
     "output_type": "display_data"
    },
    {
     "data": {
      "image/png": "[encoded data removed]",
      "text/plain": [
       "<Figure size 360x360 with 1 Axes>"
      ]
     },
     "metadata": {},
     "output_type": "display_data"
    }
   ],
   "source": [
    "# Popular Apps by Category \n",
    "plt.figure(figsize=(40,40))\n",
    "ax = sns.catplot\n",
    "sns.factorplot(x= 'Category',y='Maximum Installs',data=df,kind='box',aspect=1)\n",
    "plt.xticks(rotation=45)\n",
    "plt.show()"
   ]
  },
  {
   "cell_type": "code",
   "execution_count": 23,
   "id": "8d5ec43e",
   "metadata": {},
   "outputs": [
    {
     "data": {
      "image/png": "[encoded data removed]",
      "text/plain": [
       "<Figure size 864x648 with 2 Axes>"
      ]
     },
     "metadata": {},
     "output_type": "display_data"
    }
   ],
   "source": [
    "# Correlation between features \n",
    "plt.figure(figsize=(12, 9));\n",
    "correlation_matrix = df.corr().round(2);\n",
    "sns.heatmap(correlation_matrix, cmap=\"YlGnBu\", annot=True);"
   ]
  },
  {
   "cell_type": "markdown",
   "id": "1198960d",
   "metadata": {},
   "source": [
    "### 2. Data Preparation "
   ]
  },
  {
   "cell_type": "code",
   "execution_count": 24,
   "id": "ebd8a83a",
   "metadata": {},
   "outputs": [
    {
     "data": {
      "text/plain": [
       "Developer Website    760835\n",
       "Privacy Policy       420953\n",
       "Released              71053\n",
       "Rating                22883\n",
       "Rating Count          22883\n",
       "Minimum Android        6530\n",
       "Size                    196\n",
       "Currency                135\n",
       "Installs                107\n",
       "Minimum Installs        107\n",
       "Developer Id             33\n",
       "Developer Email          31\n",
       "App Name                  2\n",
       "App Id                    0\n",
       "Price                     0\n",
       "Free                      0\n",
       "Maximum Installs          0\n",
       "Last Updated              0\n",
       "Content Rating            0\n",
       "Category                  0\n",
       "Ad Supported              0\n",
       "In App Purchases          0\n",
       "Editors Choice            0\n",
       "Scraped Time              0\n",
       "dtype: int64"
      ]
     },
     "execution_count": 24,
     "metadata": {},
     "output_type": "execute_result"
    }
   ],
   "source": [
    "# Getting the number of missing values \n",
    "df.isnull().sum().sort_values(ascending = False)"
   ]
  },
  {
   "cell_type": "code",
   "execution_count": 25,
   "id": "bf45ee78",
   "metadata": {},
   "outputs": [
    {
     "data": {
      "text/plain": [
       "(1287191, 24)"
      ]
     },
     "execution_count": 25,
     "metadata": {},
     "output_type": "execute_result"
    }
   ],
   "source": [
    "# Dropping rows with missing values\n",
    "df2 = df.dropna()\n",
    "df2.shape"
   ]
  },
  {
   "cell_type": "code",
   "execution_count": 27,
   "id": "6dca9a02",
   "metadata": {},
   "outputs": [
    {
     "data": {
      "text/plain": [
       "USD    1286647\n",
       "XXX        533\n",
       "EUR          4\n",
       "GBP          2\n",
       "INR          2\n",
       "VND          1\n",
       "TRY          1\n",
       "ZAR          1\n",
       "Name: Currency, dtype: int64"
      ]
     },
     "execution_count": 27,
     "metadata": {},
     "output_type": "execute_result"
    }
   ],
   "source": [
    "# Checking Currency \n",
    "df2['Currency'].value_counts()"
   ]
  },
  {
   "cell_type": "code",
   "execution_count": 29,
   "id": "3a13067a",
   "metadata": {},
   "outputs": [],
   "source": [
    "#Selecting Data where the currecny is USD\n",
    "df3 = df2.loc[(df2['Currency'] == 'USD')]"
   ]
  },
  {
   "cell_type": "code",
   "execution_count": 31,
   "id": "b71daa64",
   "metadata": {},
   "outputs": [
    {
     "data": {
      "text/plain": [
       "array(['10+', '5,000+', '100+', '50+', '50,000+', '10,000+', '1,000+',\n",
       "       '500+', '500,000+', '100,000+', '10,000,000+', '1+', '1,000,000+',\n",
       "       '5+', '5,000,000+', '100,000,000+', '0+', '50,000,000+',\n",
       "       '1,000,000,000+', '500,000,000+', '5,000,000,000+',\n",
       "       '10,000,000,000+'], dtype=object)"
      ]
     },
     "execution_count": 31,
     "metadata": {},
     "output_type": "execute_result"
    }
   ],
   "source": [
    "# Checking the target varibale , Install\n",
    "df3['Installs'].unique()"
   ]
  },
  {
   "cell_type": "code",
   "execution_count": 32,
   "id": "e606f219",
   "metadata": {},
   "outputs": [],
   "source": [
    "#converting the installs to numeric value\n",
    "df3['Installs'] = df3['Installs'].str.replace(',','')\n",
    "df3['Installs'] = df3['Installs'].str.replace('+','')\n",
    "df3['Installs'] = df3['Installs'].str.replace('Free','0')\n",
    "df3['Installs'] = pd.to_numeric(df3['Installs'])"
   ]
  },
  {
   "cell_type": "code",
   "execution_count": 33,
   "id": "f4ff3a4f",
   "metadata": {},
   "outputs": [
    {
     "data": {
      "text/plain": [
       "array([         10,        5000,         100,          50,       50000,\n",
       "             10000,        1000,         500,      500000,      100000,\n",
       "          10000000,           1,     1000000,           5,     5000000,\n",
       "         100000000,           0,    50000000,  1000000000,   500000000,\n",
       "        5000000000, 10000000000], dtype=int64)"
      ]
     },
     "execution_count": 33,
     "metadata": {},
     "output_type": "execute_result"
    }
   ],
   "source": [
    "# Checking againg the install unique vlaues \n",
    "df3['Installs'].unique()"
   ]
  },
  {
   "cell_type": "markdown",
   "id": "8a96aa5b",
   "metadata": {},
   "source": [
    "To get avergae number of installation per year Install amount will be devidided by the number of APP days"
   ]
  },
  {
   "cell_type": "code",
   "execution_count": 34,
   "id": "fbf31f86",
   "metadata": {},
   "outputs": [],
   "source": [
    "# Getting the number of days for App at the time of data collection \n",
    "df3[['Released','Scraped Time']] = df3[['Released','Scraped Time']].apply(pd.to_datetime) # Conversting \n",
    "df3['App_days'] = (df3['Scraped Time'] - df3['Released']).dt.days"
   ]
  },
  {
   "cell_type": "code",
   "execution_count": 35,
   "id": "e9c96d9b",
   "metadata": {},
   "outputs": [],
   "source": [
    "# Converting the number of days to Years \n",
    "df3['App_year']= round(df3['App_days']/365)"
   ]
  },
  {
   "cell_type": "code",
   "execution_count": 36,
   "id": "0a6c1ab5",
   "metadata": {},
   "outputs": [],
   "source": [
    "# Calculating average Annual Installaition amount \n",
    "df3['avr.annual.Install']= df3['Installs']/df3['App_year']"
   ]
  },
  {
   "cell_type": "code",
   "execution_count": 37,
   "id": "d209b5aa",
   "metadata": {},
   "outputs": [
    {
     "data": {
      "text/html": [
       "<div>\n",
       "<style scoped>\n",
       "    .dataframe tbody tr th:only-of-type {\n",
       "        vertical-align: middle;\n",
       "    }\n",
       "\n",
       "    .dataframe tbody tr th {\n",
       "        vertical-align: top;\n",
       "    }\n",
       "\n",
       "    .dataframe thead th {\n",
       "        text-align: right;\n",
       "    }\n",
       "</style>\n",
       "<table border=\"1\" class=\"dataframe\">\n",
       "  <thead>\n",
       "    <tr style=\"text-align: right;\">\n",
       "      <th></th>\n",
       "      <th>App Name</th>\n",
       "      <th>App Id</th>\n",
       "      <th>Category</th>\n",
       "      <th>Rating</th>\n",
       "      <th>Rating Count</th>\n",
       "      <th>Installs</th>\n",
       "      <th>Minimum Installs</th>\n",
       "      <th>Maximum Installs</th>\n",
       "      <th>Free</th>\n",
       "      <th>Price</th>\n",
       "      <th>...</th>\n",
       "      <th>Last Updated</th>\n",
       "      <th>Content Rating</th>\n",
       "      <th>Privacy Policy</th>\n",
       "      <th>Ad Supported</th>\n",
       "      <th>In App Purchases</th>\n",
       "      <th>Editors Choice</th>\n",
       "      <th>Scraped Time</th>\n",
       "      <th>App_days</th>\n",
       "      <th>App_year</th>\n",
       "      <th>avr.annual.Install</th>\n",
       "    </tr>\n",
       "  </thead>\n",
       "  <tbody>\n",
       "    <tr>\n",
       "      <th>0</th>\n",
       "      <td>Gakondo</td>\n",
       "      <td>com.ishakwe.gakondo</td>\n",
       "      <td>Adventure</td>\n",
       "      <td>0.0</td>\n",
       "      <td>0.0</td>\n",
       "      <td>10</td>\n",
       "      <td>10.0</td>\n",
       "      <td>15</td>\n",
       "      <td>True</td>\n",
       "      <td>0.0</td>\n",
       "      <td>...</td>\n",
       "      <td>Feb 26, 2020</td>\n",
       "      <td>Everyone</td>\n",
       "      <td>https://beniyizibyose.tk/projects/</td>\n",
       "      <td>False</td>\n",
       "      <td>False</td>\n",
       "      <td>False</td>\n",
       "      <td>2021-06-15 20:19:35</td>\n",
       "      <td>475</td>\n",
       "      <td>1.0</td>\n",
       "      <td>10.0</td>\n",
       "    </tr>\n",
       "    <tr>\n",
       "      <th>1</th>\n",
       "      <td>Ampere Battery Info</td>\n",
       "      <td>com.webserveis.batteryinfo</td>\n",
       "      <td>Tools</td>\n",
       "      <td>4.4</td>\n",
       "      <td>64.0</td>\n",
       "      <td>5000</td>\n",
       "      <td>5000.0</td>\n",
       "      <td>7662</td>\n",
       "      <td>True</td>\n",
       "      <td>0.0</td>\n",
       "      <td>...</td>\n",
       "      <td>May 06, 2021</td>\n",
       "      <td>Everyone</td>\n",
       "      <td>https://dev4phones.wordpress.com/licencia-de-uso/</td>\n",
       "      <td>True</td>\n",
       "      <td>False</td>\n",
       "      <td>False</td>\n",
       "      <td>2021-06-15 20:19:35</td>\n",
       "      <td>390</td>\n",
       "      <td>1.0</td>\n",
       "      <td>5000.0</td>\n",
       "    </tr>\n",
       "    <tr>\n",
       "      <th>4</th>\n",
       "      <td>GROW.me</td>\n",
       "      <td>com.horodyski.grower</td>\n",
       "      <td>Tools</td>\n",
       "      <td>0.0</td>\n",
       "      <td>0.0</td>\n",
       "      <td>100</td>\n",
       "      <td>100.0</td>\n",
       "      <td>478</td>\n",
       "      <td>True</td>\n",
       "      <td>0.0</td>\n",
       "      <td>...</td>\n",
       "      <td>Nov 12, 2018</td>\n",
       "      <td>Everyone</td>\n",
       "      <td>http://www.horodyski.com.pl</td>\n",
       "      <td>False</td>\n",
       "      <td>False</td>\n",
       "      <td>False</td>\n",
       "      <td>2021-06-15 20:19:35</td>\n",
       "      <td>480</td>\n",
       "      <td>1.0</td>\n",
       "      <td>100.0</td>\n",
       "    </tr>\n",
       "    <tr>\n",
       "      <th>5</th>\n",
       "      <td>IMOCCI</td>\n",
       "      <td>com.imocci</td>\n",
       "      <td>Social</td>\n",
       "      <td>0.0</td>\n",
       "      <td>0.0</td>\n",
       "      <td>50</td>\n",
       "      <td>50.0</td>\n",
       "      <td>89</td>\n",
       "      <td>True</td>\n",
       "      <td>0.0</td>\n",
       "      <td>...</td>\n",
       "      <td>Dec 20, 2019</td>\n",
       "      <td>Teen</td>\n",
       "      <td>https://www.imocci.com/wp-content/uploads/2018...</td>\n",
       "      <td>False</td>\n",
       "      <td>True</td>\n",
       "      <td>False</td>\n",
       "      <td>2021-06-15 20:19:35</td>\n",
       "      <td>904</td>\n",
       "      <td>2.0</td>\n",
       "      <td>25.0</td>\n",
       "    </tr>\n",
       "    <tr>\n",
       "      <th>9</th>\n",
       "      <td>Neon 3d Iron Tech Keyboard Theme</td>\n",
       "      <td>com.ikeyboard.theme.neon_3d.iron.tech</td>\n",
       "      <td>Personalization</td>\n",
       "      <td>4.7</td>\n",
       "      <td>820.0</td>\n",
       "      <td>50000</td>\n",
       "      <td>50000.0</td>\n",
       "      <td>62433</td>\n",
       "      <td>True</td>\n",
       "      <td>0.0</td>\n",
       "      <td>...</td>\n",
       "      <td>Oct 07, 2020</td>\n",
       "      <td>Everyone</td>\n",
       "      <td>http://bit.ly/EmojiThemePro</td>\n",
       "      <td>True</td>\n",
       "      <td>False</td>\n",
       "      <td>False</td>\n",
       "      <td>2021-06-15 20:19:35</td>\n",
       "      <td>632</td>\n",
       "      <td>2.0</td>\n",
       "      <td>25000.0</td>\n",
       "    </tr>\n",
       "  </tbody>\n",
       "</table>\n",
       "<p>5 rows × 27 columns</p>\n",
       "</div>"
      ],
      "text/plain": [
       "                           App Name                                 App Id  \\\n",
       "0                           Gakondo                    com.ishakwe.gakondo   \n",
       "1               Ampere Battery Info             com.webserveis.batteryinfo   \n",
       "4                           GROW.me                   com.horodyski.grower   \n",
       "5                            IMOCCI                             com.imocci   \n",
       "9  Neon 3d Iron Tech Keyboard Theme  com.ikeyboard.theme.neon_3d.iron.tech   \n",
       "\n",
       "          Category  Rating  Rating Count  Installs  Minimum Installs  \\\n",
       "0        Adventure     0.0           0.0        10              10.0   \n",
       "1            Tools     4.4          64.0      5000            5000.0   \n",
       "4            Tools     0.0           0.0       100             100.0   \n",
       "5           Social     0.0           0.0        50              50.0   \n",
       "9  Personalization     4.7         820.0     50000           50000.0   \n",
       "\n",
       "   Maximum Installs  Free  Price  ...  Last Updated Content Rating  \\\n",
       "0                15  True    0.0  ...  Feb 26, 2020       Everyone   \n",
       "1              7662  True    0.0  ...  May 06, 2021       Everyone   \n",
       "4               478  True    0.0  ...  Nov 12, 2018       Everyone   \n",
       "5                89  True    0.0  ...  Dec 20, 2019           Teen   \n",
       "9             62433  True    0.0  ...  Oct 07, 2020       Everyone   \n",
       "\n",
       "                                      Privacy Policy Ad Supported  \\\n",
       "0                 https://beniyizibyose.tk/projects/        False   \n",
       "1  https://dev4phones.wordpress.com/licencia-de-uso/         True   \n",
       "4                        http://www.horodyski.com.pl        False   \n",
       "5  https://www.imocci.com/wp-content/uploads/2018...        False   \n",
       "9                        http://bit.ly/EmojiThemePro         True   \n",
       "\n",
       "  In App Purchases Editors Choice        Scraped Time App_days App_year  \\\n",
       "0            False          False 2021-06-15 20:19:35      475      1.0   \n",
       "1            False          False 2021-06-15 20:19:35      390      1.0   \n",
       "4            False          False 2021-06-15 20:19:35      480      1.0   \n",
       "5             True          False 2021-06-15 20:19:35      904      2.0   \n",
       "9            False          False 2021-06-15 20:19:35      632      2.0   \n",
       "\n",
       "  avr.annual.Install  \n",
       "0               10.0  \n",
       "1             5000.0  \n",
       "4              100.0  \n",
       "5               25.0  \n",
       "9            25000.0  \n",
       "\n",
       "[5 rows x 27 columns]"
      ]
     },
     "execution_count": 37,
     "metadata": {},
     "output_type": "execute_result"
    }
   ],
   "source": [
    "# Checkin top rows \n",
    "df3.head()"
   ]
  },
  {
   "cell_type": "code",
   "execution_count": 38,
   "id": "fc6d0a02",
   "metadata": {},
   "outputs": [
    {
     "data": {
      "text/html": [
       "<div>\n",
       "<style scoped>\n",
       "    .dataframe tbody tr th:only-of-type {\n",
       "        vertical-align: middle;\n",
       "    }\n",
       "\n",
       "    .dataframe tbody tr th {\n",
       "        vertical-align: top;\n",
       "    }\n",
       "\n",
       "    .dataframe thead th {\n",
       "        text-align: right;\n",
       "    }\n",
       "</style>\n",
       "<table border=\"1\" class=\"dataframe\">\n",
       "  <thead>\n",
       "    <tr style=\"text-align: right;\">\n",
       "      <th></th>\n",
       "      <th>Rating</th>\n",
       "      <th>Rating Count</th>\n",
       "      <th>Installs</th>\n",
       "      <th>Minimum Installs</th>\n",
       "      <th>Maximum Installs</th>\n",
       "      <th>Price</th>\n",
       "      <th>App_days</th>\n",
       "      <th>App_year</th>\n",
       "      <th>avr.annual.Install</th>\n",
       "    </tr>\n",
       "  </thead>\n",
       "  <tbody>\n",
       "    <tr>\n",
       "      <th>count</th>\n",
       "      <td>1.286647e+06</td>\n",
       "      <td>1.286647e+06</td>\n",
       "      <td>1.286647e+06</td>\n",
       "      <td>1.286647e+06</td>\n",
       "      <td>1.286647e+06</td>\n",
       "      <td>1.286647e+06</td>\n",
       "      <td>1.286647e+06</td>\n",
       "      <td>1.286647e+06</td>\n",
       "      <td>1.285052e+06</td>\n",
       "    </tr>\n",
       "    <tr>\n",
       "      <th>mean</th>\n",
       "      <td>2.315790e+00</td>\n",
       "      <td>4.472551e+03</td>\n",
       "      <td>2.692382e+05</td>\n",
       "      <td>2.692382e+05</td>\n",
       "      <td>4.677921e+05</td>\n",
       "      <td>1.100181e-01</td>\n",
       "      <td>1.110835e+03</td>\n",
       "      <td>3.044136e+00</td>\n",
       "      <td>inf</td>\n",
       "    </tr>\n",
       "    <tr>\n",
       "      <th>std</th>\n",
       "      <td>2.090324e+00</td>\n",
       "      <td>2.595338e+05</td>\n",
       "      <td>1.834775e+07</td>\n",
       "      <td>1.834775e+07</td>\n",
       "      <td>2.781062e+07</td>\n",
       "      <td>2.438557e+00</td>\n",
       "      <td>7.963104e+02</td>\n",
       "      <td>2.203442e+00</td>\n",
       "      <td>NaN</td>\n",
       "    </tr>\n",
       "    <tr>\n",
       "      <th>min</th>\n",
       "      <td>0.000000e+00</td>\n",
       "      <td>0.000000e+00</td>\n",
       "      <td>0.000000e+00</td>\n",
       "      <td>0.000000e+00</td>\n",
       "      <td>0.000000e+00</td>\n",
       "      <td>0.000000e+00</td>\n",
       "      <td>0.000000e+00</td>\n",
       "      <td>0.000000e+00</td>\n",
       "      <td>0.000000e+00</td>\n",
       "    </tr>\n",
       "    <tr>\n",
       "      <th>25%</th>\n",
       "      <td>0.000000e+00</td>\n",
       "      <td>0.000000e+00</td>\n",
       "      <td>1.000000e+02</td>\n",
       "      <td>1.000000e+02</td>\n",
       "      <td>1.150000e+02</td>\n",
       "      <td>0.000000e+00</td>\n",
       "      <td>4.850000e+02</td>\n",
       "      <td>1.000000e+00</td>\n",
       "      <td>3.333333e+01</td>\n",
       "    </tr>\n",
       "    <tr>\n",
       "      <th>50%</th>\n",
       "      <td>3.300000e+00</td>\n",
       "      <td>7.000000e+00</td>\n",
       "      <td>5.000000e+02</td>\n",
       "      <td>5.000000e+02</td>\n",
       "      <td>9.500000e+02</td>\n",
       "      <td>0.000000e+00</td>\n",
       "      <td>9.290000e+02</td>\n",
       "      <td>3.000000e+00</td>\n",
       "      <td>2.500000e+02</td>\n",
       "    </tr>\n",
       "    <tr>\n",
       "      <th>75%</th>\n",
       "      <td>4.300000e+00</td>\n",
       "      <td>6.100000e+01</td>\n",
       "      <td>1.000000e+04</td>\n",
       "      <td>1.000000e+04</td>\n",
       "      <td>1.075100e+04</td>\n",
       "      <td>0.000000e+00</td>\n",
       "      <td>1.554000e+03</td>\n",
       "      <td>4.000000e+00</td>\n",
       "      <td>3.333333e+03</td>\n",
       "    </tr>\n",
       "    <tr>\n",
       "      <th>max</th>\n",
       "      <td>5.000000e+00</td>\n",
       "      <td>1.385576e+08</td>\n",
       "      <td>1.000000e+10</td>\n",
       "      <td>1.000000e+10</td>\n",
       "      <td>1.205763e+10</td>\n",
       "      <td>4.000000e+02</td>\n",
       "      <td>4.157000e+03</td>\n",
       "      <td>1.100000e+01</td>\n",
       "      <td>inf</td>\n",
       "    </tr>\n",
       "  </tbody>\n",
       "</table>\n",
       "</div>"
      ],
      "text/plain": [
       "             Rating  Rating Count      Installs  Minimum Installs  \\\n",
       "count  1.286647e+06  1.286647e+06  1.286647e+06      1.286647e+06   \n",
       "mean   2.315790e+00  4.472551e+03  2.692382e+05      2.692382e+05   \n",
       "std    2.090324e+00  2.595338e+05  1.834775e+07      1.834775e+07   \n",
       "min    0.000000e+00  0.000000e+00  0.000000e+00      0.000000e+00   \n",
       "25%    0.000000e+00  0.000000e+00  1.000000e+02      1.000000e+02   \n",
       "50%    3.300000e+00  7.000000e+00  5.000000e+02      5.000000e+02   \n",
       "75%    4.300000e+00  6.100000e+01  1.000000e+04      1.000000e+04   \n",
       "max    5.000000e+00  1.385576e+08  1.000000e+10      1.000000e+10   \n",
       "\n",
       "       Maximum Installs         Price      App_days      App_year  \\\n",
       "count      1.286647e+06  1.286647e+06  1.286647e+06  1.286647e+06   \n",
       "mean       4.677921e+05  1.100181e-01  1.110835e+03  3.044136e+00   \n",
       "std        2.781062e+07  2.438557e+00  7.963104e+02  2.203442e+00   \n",
       "min        0.000000e+00  0.000000e+00  0.000000e+00  0.000000e+00   \n",
       "25%        1.150000e+02  0.000000e+00  4.850000e+02  1.000000e+00   \n",
       "50%        9.500000e+02  0.000000e+00  9.290000e+02  3.000000e+00   \n",
       "75%        1.075100e+04  0.000000e+00  1.554000e+03  4.000000e+00   \n",
       "max        1.205763e+10  4.000000e+02  4.157000e+03  1.100000e+01   \n",
       "\n",
       "       avr.annual.Install  \n",
       "count        1.285052e+06  \n",
       "mean                  inf  \n",
       "std                   NaN  \n",
       "min          0.000000e+00  \n",
       "25%          3.333333e+01  \n",
       "50%          2.500000e+02  \n",
       "75%          3.333333e+03  \n",
       "max                   inf  "
      ]
     },
     "execution_count": 38,
     "metadata": {},
     "output_type": "execute_result"
    }
   ],
   "source": [
    "# Checking the stasticc of numeric columns again \n",
    "df3.describe()"
   ]
  },
  {
   "cell_type": "code",
   "execution_count": 39,
   "id": "681ba8f7",
   "metadata": {},
   "outputs": [],
   "source": [
    "# Remove infinity and NAN values from avr.annual.install\n",
    "# Replacing infinite with nan \n",
    "df3.replace([np.inf, -np.inf], np.nan, inplace=True) \n",
    "  \n",
    "# Dropping all the rows with nan values \n",
    "df3.dropna(inplace=True) \n"
   ]
  },
  {
   "cell_type": "code",
   "execution_count": 40,
   "id": "7039f56f",
   "metadata": {},
   "outputs": [
    {
     "data": {
      "text/html": [
       "<div>\n",
       "<style scoped>\n",
       "    .dataframe tbody tr th:only-of-type {\n",
       "        vertical-align: middle;\n",
       "    }\n",
       "\n",
       "    .dataframe tbody tr th {\n",
       "        vertical-align: top;\n",
       "    }\n",
       "\n",
       "    .dataframe thead th {\n",
       "        text-align: right;\n",
       "    }\n",
       "</style>\n",
       "<table border=\"1\" class=\"dataframe\">\n",
       "  <thead>\n",
       "    <tr style=\"text-align: right;\">\n",
       "      <th></th>\n",
       "      <th>Rating</th>\n",
       "      <th>Rating Count</th>\n",
       "      <th>Installs</th>\n",
       "      <th>Minimum Installs</th>\n",
       "      <th>Maximum Installs</th>\n",
       "      <th>Price</th>\n",
       "      <th>App_days</th>\n",
       "      <th>App_year</th>\n",
       "      <th>avr.annual.Install</th>\n",
       "    </tr>\n",
       "  </thead>\n",
       "  <tbody>\n",
       "    <tr>\n",
       "      <th>count</th>\n",
       "      <td>1.207012e+06</td>\n",
       "      <td>1.207012e+06</td>\n",
       "      <td>1.207012e+06</td>\n",
       "      <td>1.207012e+06</td>\n",
       "      <td>1.207012e+06</td>\n",
       "      <td>1.207012e+06</td>\n",
       "      <td>1.207012e+06</td>\n",
       "      <td>1.207012e+06</td>\n",
       "      <td>1.207012e+06</td>\n",
       "    </tr>\n",
       "    <tr>\n",
       "      <th>mean</th>\n",
       "      <td>2.371408e+00</td>\n",
       "      <td>4.746385e+03</td>\n",
       "      <td>2.855014e+05</td>\n",
       "      <td>2.855014e+05</td>\n",
       "      <td>4.957986e+05</td>\n",
       "      <td>1.164026e-01</td>\n",
       "      <td>1.177587e+03</td>\n",
       "      <td>3.244979e+00</td>\n",
       "      <td>6.375878e+04</td>\n",
       "    </tr>\n",
       "    <tr>\n",
       "      <th>std</th>\n",
       "      <td>2.080166e+00</td>\n",
       "      <td>2.679432e+05</td>\n",
       "      <td>1.894266e+07</td>\n",
       "      <td>1.894266e+07</td>\n",
       "      <td>2.870991e+07</td>\n",
       "      <td>2.515762e+00</td>\n",
       "      <td>7.770414e+02</td>\n",
       "      <td>2.126912e+00</td>\n",
       "      <td>2.430112e+06</td>\n",
       "    </tr>\n",
       "    <tr>\n",
       "      <th>min</th>\n",
       "      <td>0.000000e+00</td>\n",
       "      <td>0.000000e+00</td>\n",
       "      <td>0.000000e+00</td>\n",
       "      <td>0.000000e+00</td>\n",
       "      <td>0.000000e+00</td>\n",
       "      <td>0.000000e+00</td>\n",
       "      <td>1.830000e+02</td>\n",
       "      <td>1.000000e+00</td>\n",
       "      <td>0.000000e+00</td>\n",
       "    </tr>\n",
       "    <tr>\n",
       "      <th>25%</th>\n",
       "      <td>0.000000e+00</td>\n",
       "      <td>0.000000e+00</td>\n",
       "      <td>1.000000e+02</td>\n",
       "      <td>1.000000e+02</td>\n",
       "      <td>1.340000e+02</td>\n",
       "      <td>0.000000e+00</td>\n",
       "      <td>5.620000e+02</td>\n",
       "      <td>2.000000e+00</td>\n",
       "      <td>2.500000e+01</td>\n",
       "    </tr>\n",
       "    <tr>\n",
       "      <th>50%</th>\n",
       "      <td>3.400000e+00</td>\n",
       "      <td>8.000000e+00</td>\n",
       "      <td>1.000000e+03</td>\n",
       "      <td>1.000000e+03</td>\n",
       "      <td>1.084000e+03</td>\n",
       "      <td>0.000000e+00</td>\n",
       "      <td>9.920000e+02</td>\n",
       "      <td>3.000000e+00</td>\n",
       "      <td>2.500000e+02</td>\n",
       "    </tr>\n",
       "    <tr>\n",
       "      <th>75%</th>\n",
       "      <td>4.300000e+00</td>\n",
       "      <td>6.700000e+01</td>\n",
       "      <td>1.000000e+04</td>\n",
       "      <td>1.000000e+04</td>\n",
       "      <td>1.210500e+04</td>\n",
       "      <td>0.000000e+00</td>\n",
       "      <td>1.605000e+03</td>\n",
       "      <td>4.000000e+00</td>\n",
       "      <td>2.500000e+03</td>\n",
       "    </tr>\n",
       "    <tr>\n",
       "      <th>max</th>\n",
       "      <td>5.000000e+00</td>\n",
       "      <td>1.385576e+08</td>\n",
       "      <td>1.000000e+10</td>\n",
       "      <td>1.000000e+10</td>\n",
       "      <td>1.205763e+10</td>\n",
       "      <td>4.000000e+02</td>\n",
       "      <td>4.157000e+03</td>\n",
       "      <td>1.100000e+01</td>\n",
       "      <td>1.111111e+09</td>\n",
       "    </tr>\n",
       "  </tbody>\n",
       "</table>\n",
       "</div>"
      ],
      "text/plain": [
       "             Rating  Rating Count      Installs  Minimum Installs  \\\n",
       "count  1.207012e+06  1.207012e+06  1.207012e+06      1.207012e+06   \n",
       "mean   2.371408e+00  4.746385e+03  2.855014e+05      2.855014e+05   \n",
       "std    2.080166e+00  2.679432e+05  1.894266e+07      1.894266e+07   \n",
       "min    0.000000e+00  0.000000e+00  0.000000e+00      0.000000e+00   \n",
       "25%    0.000000e+00  0.000000e+00  1.000000e+02      1.000000e+02   \n",
       "50%    3.400000e+00  8.000000e+00  1.000000e+03      1.000000e+03   \n",
       "75%    4.300000e+00  6.700000e+01  1.000000e+04      1.000000e+04   \n",
       "max    5.000000e+00  1.385576e+08  1.000000e+10      1.000000e+10   \n",
       "\n",
       "       Maximum Installs         Price      App_days      App_year  \\\n",
       "count      1.207012e+06  1.207012e+06  1.207012e+06  1.207012e+06   \n",
       "mean       4.957986e+05  1.164026e-01  1.177587e+03  3.244979e+00   \n",
       "std        2.870991e+07  2.515762e+00  7.770414e+02  2.126912e+00   \n",
       "min        0.000000e+00  0.000000e+00  1.830000e+02  1.000000e+00   \n",
       "25%        1.340000e+02  0.000000e+00  5.620000e+02  2.000000e+00   \n",
       "50%        1.084000e+03  0.000000e+00  9.920000e+02  3.000000e+00   \n",
       "75%        1.210500e+04  0.000000e+00  1.605000e+03  4.000000e+00   \n",
       "max        1.205763e+10  4.000000e+02  4.157000e+03  1.100000e+01   \n",
       "\n",
       "       avr.annual.Install  \n",
       "count        1.207012e+06  \n",
       "mean         6.375878e+04  \n",
       "std          2.430112e+06  \n",
       "min          0.000000e+00  \n",
       "25%          2.500000e+01  \n",
       "50%          2.500000e+02  \n",
       "75%          2.500000e+03  \n",
       "max          1.111111e+09  "
      ]
     },
     "execution_count": 40,
     "metadata": {},
     "output_type": "execute_result"
    }
   ],
   "source": [
    "# Running Stastical Summay\n",
    "df3.describe()"
   ]
  },
  {
   "cell_type": "code",
   "execution_count": 41,
   "id": "1ca19138",
   "metadata": {},
   "outputs": [
    {
     "data": {
      "text/plain": [
       "Index(['App Name', 'App Id', 'Category', 'Rating', 'Rating Count', 'Installs',\n",
       "       'Minimum Installs', 'Maximum Installs', 'Free', 'Price', 'Currency',\n",
       "       'Size', 'Minimum Android', 'Developer Id', 'Developer Website',\n",
       "       'Developer Email', 'Released', 'Last Updated', 'Content Rating',\n",
       "       'Privacy Policy', 'Ad Supported', 'In App Purchases', 'Editors Choice',\n",
       "       'Scraped Time', 'App_days', 'App_year', 'avr.annual.Install'],\n",
       "      dtype='object')"
      ]
     },
     "execution_count": 41,
     "metadata": {},
     "output_type": "execute_result"
    }
   ],
   "source": [
    "# Selecting features to be used in the modeling\n",
    "# List of current columns \n",
    "df3.columns"
   ]
  },
  {
   "cell_type": "markdown",
   "id": "32fa1b3c",
   "metadata": {},
   "source": [
    "The following columns were chosen to be included in the model "
   ]
  },
  {
   "cell_type": "code",
   "execution_count": 96,
   "id": "810e13d3",
   "metadata": {},
   "outputs": [],
   "source": [
    "df4= df3.loc[:, ['Category', 'Rating', 'Rating Count','Free',\n",
    "                 'Price','Currency','Minimum Android',\n",
    "                 'Content Rating','Ad Supported','In App Purchases',\n",
    "                 'Editors Choice','avr.annual.Install']] "
   ]
  },
  {
   "cell_type": "code",
   "execution_count": 97,
   "id": "dfa54688",
   "metadata": {},
   "outputs": [
    {
     "data": {
      "text/html": [
       "<div>\n",
       "<style scoped>\n",
       "    .dataframe tbody tr th:only-of-type {\n",
       "        vertical-align: middle;\n",
       "    }\n",
       "\n",
       "    .dataframe tbody tr th {\n",
       "        vertical-align: top;\n",
       "    }\n",
       "\n",
       "    .dataframe thead th {\n",
       "        text-align: right;\n",
       "    }\n",
       "</style>\n",
       "<table border=\"1\" class=\"dataframe\">\n",
       "  <thead>\n",
       "    <tr style=\"text-align: right;\">\n",
       "      <th></th>\n",
       "      <th>Category</th>\n",
       "      <th>Rating</th>\n",
       "      <th>Rating Count</th>\n",
       "      <th>Free</th>\n",
       "      <th>Price</th>\n",
       "      <th>Currency</th>\n",
       "      <th>Minimum Android</th>\n",
       "      <th>Content Rating</th>\n",
       "      <th>Ad Supported</th>\n",
       "      <th>In App Purchases</th>\n",
       "      <th>Editors Choice</th>\n",
       "      <th>avr.annual.Install</th>\n",
       "    </tr>\n",
       "  </thead>\n",
       "  <tbody>\n",
       "    <tr>\n",
       "      <th>0</th>\n",
       "      <td>Adventure</td>\n",
       "      <td>0.0</td>\n",
       "      <td>0.0</td>\n",
       "      <td>True</td>\n",
       "      <td>0.0</td>\n",
       "      <td>USD</td>\n",
       "      <td>7.1 and up</td>\n",
       "      <td>Everyone</td>\n",
       "      <td>False</td>\n",
       "      <td>False</td>\n",
       "      <td>False</td>\n",
       "      <td>10.0</td>\n",
       "    </tr>\n",
       "    <tr>\n",
       "      <th>1</th>\n",
       "      <td>Tools</td>\n",
       "      <td>4.4</td>\n",
       "      <td>64.0</td>\n",
       "      <td>True</td>\n",
       "      <td>0.0</td>\n",
       "      <td>USD</td>\n",
       "      <td>5.0 and up</td>\n",
       "      <td>Everyone</td>\n",
       "      <td>True</td>\n",
       "      <td>False</td>\n",
       "      <td>False</td>\n",
       "      <td>5000.0</td>\n",
       "    </tr>\n",
       "    <tr>\n",
       "      <th>4</th>\n",
       "      <td>Tools</td>\n",
       "      <td>0.0</td>\n",
       "      <td>0.0</td>\n",
       "      <td>True</td>\n",
       "      <td>0.0</td>\n",
       "      <td>USD</td>\n",
       "      <td>4.1 and up</td>\n",
       "      <td>Everyone</td>\n",
       "      <td>False</td>\n",
       "      <td>False</td>\n",
       "      <td>False</td>\n",
       "      <td>100.0</td>\n",
       "    </tr>\n",
       "    <tr>\n",
       "      <th>5</th>\n",
       "      <td>Social</td>\n",
       "      <td>0.0</td>\n",
       "      <td>0.0</td>\n",
       "      <td>True</td>\n",
       "      <td>0.0</td>\n",
       "      <td>USD</td>\n",
       "      <td>6.0 and up</td>\n",
       "      <td>Teen</td>\n",
       "      <td>False</td>\n",
       "      <td>True</td>\n",
       "      <td>False</td>\n",
       "      <td>25.0</td>\n",
       "    </tr>\n",
       "    <tr>\n",
       "      <th>9</th>\n",
       "      <td>Personalization</td>\n",
       "      <td>4.7</td>\n",
       "      <td>820.0</td>\n",
       "      <td>True</td>\n",
       "      <td>0.0</td>\n",
       "      <td>USD</td>\n",
       "      <td>4.1 and up</td>\n",
       "      <td>Everyone</td>\n",
       "      <td>True</td>\n",
       "      <td>False</td>\n",
       "      <td>False</td>\n",
       "      <td>25000.0</td>\n",
       "    </tr>\n",
       "  </tbody>\n",
       "</table>\n",
       "</div>"
      ],
      "text/plain": [
       "          Category  Rating  Rating Count  Free  Price Currency  \\\n",
       "0        Adventure     0.0           0.0  True    0.0      USD   \n",
       "1            Tools     4.4          64.0  True    0.0      USD   \n",
       "4            Tools     0.0           0.0  True    0.0      USD   \n",
       "5           Social     0.0           0.0  True    0.0      USD   \n",
       "9  Personalization     4.7         820.0  True    0.0      USD   \n",
       "\n",
       "  Minimum Android Content Rating  Ad Supported  In App Purchases  \\\n",
       "0      7.1 and up       Everyone         False             False   \n",
       "1      5.0 and up       Everyone          True             False   \n",
       "4      4.1 and up       Everyone         False             False   \n",
       "5      6.0 and up           Teen         False              True   \n",
       "9      4.1 and up       Everyone          True             False   \n",
       "\n",
       "   Editors Choice  avr.annual.Install  \n",
       "0           False                10.0  \n",
       "1           False              5000.0  \n",
       "4           False               100.0  \n",
       "5           False                25.0  \n",
       "9           False             25000.0  "
      ]
     },
     "execution_count": 97,
     "metadata": {},
     "output_type": "execute_result"
    }
   ],
   "source": [
    "# Check top rows\n",
    "df4.head()"
   ]
  },
  {
   "cell_type": "code",
   "execution_count": 98,
   "id": "a3713544",
   "metadata": {},
   "outputs": [
    {
     "name": "stdout",
     "output_type": "stream",
     "text": [
      "<class 'pandas.core.frame.DataFrame'>\n",
      "Int64Index: 1207012 entries, 0 to 2312942\n",
      "Data columns (total 12 columns):\n",
      " #   Column              Non-Null Count    Dtype  \n",
      "---  ------              --------------    -----  \n",
      " 0   Category            1207012 non-null  object \n",
      " 1   Rating              1207012 non-null  float64\n",
      " 2   Rating Count        1207012 non-null  float64\n",
      " 3   Free                1207012 non-null  bool   \n",
      " 4   Price               1207012 non-null  float64\n",
      " 5   Currency            1207012 non-null  object \n",
      " 6   Minimum Android     1207012 non-null  object \n",
      " 7   Content Rating      1207012 non-null  object \n",
      " 8   Ad Supported        1207012 non-null  bool   \n",
      " 9   In App Purchases    1207012 non-null  bool   \n",
      " 10  Editors Choice      1207012 non-null  bool   \n",
      " 11  avr.annual.Install  1207012 non-null  float64\n",
      "dtypes: bool(4), float64(4), object(4)\n",
      "memory usage: 87.5+ MB\n"
     ]
    }
   ],
   "source": [
    "# Checking data types \n",
    "df4.info()"
   ]
  },
  {
   "cell_type": "code",
   "execution_count": 99,
   "id": "20c7c5a8",
   "metadata": {},
   "outputs": [],
   "source": [
    "# Converting categorical vlaues to numerical\n",
    "    \n",
    "df4 = pd.get_dummies(df4, columns= ['Category','Free','Currency',\n",
    "                                    'Minimum Android','Content Rating',\n",
    "                                    'Ad Supported','In App Purchases','Editors Choice'])"
   ]
  },
  {
   "cell_type": "code",
   "execution_count": 100,
   "id": "159c29e3",
   "metadata": {},
   "outputs": [
    {
     "data": {
      "text/html": [
       "<div>\n",
       "<style scoped>\n",
       "    .dataframe tbody tr th:only-of-type {\n",
       "        vertical-align: middle;\n",
       "    }\n",
       "\n",
       "    .dataframe tbody tr th {\n",
       "        vertical-align: top;\n",
       "    }\n",
       "\n",
       "    .dataframe thead th {\n",
       "        text-align: right;\n",
       "    }\n",
       "</style>\n",
       "<table border=\"1\" class=\"dataframe\">\n",
       "  <thead>\n",
       "    <tr style=\"text-align: right;\">\n",
       "      <th></th>\n",
       "      <th>Rating</th>\n",
       "      <th>Rating Count</th>\n",
       "      <th>Price</th>\n",
       "      <th>avr.annual.Install</th>\n",
       "      <th>Category_Action</th>\n",
       "      <th>Category_Adventure</th>\n",
       "      <th>Category_Arcade</th>\n",
       "      <th>Category_Art &amp; Design</th>\n",
       "      <th>Category_Auto &amp; Vehicles</th>\n",
       "      <th>Category_Beauty</th>\n",
       "      <th>...</th>\n",
       "      <th>Content Rating_Everyone 10+</th>\n",
       "      <th>Content Rating_Mature 17+</th>\n",
       "      <th>Content Rating_Teen</th>\n",
       "      <th>Content Rating_Unrated</th>\n",
       "      <th>Ad Supported_False</th>\n",
       "      <th>Ad Supported_True</th>\n",
       "      <th>In App Purchases_False</th>\n",
       "      <th>In App Purchases_True</th>\n",
       "      <th>Editors Choice_False</th>\n",
       "      <th>Editors Choice_True</th>\n",
       "    </tr>\n",
       "  </thead>\n",
       "  <tbody>\n",
       "    <tr>\n",
       "      <th>0</th>\n",
       "      <td>0.0</td>\n",
       "      <td>0.0</td>\n",
       "      <td>0.0</td>\n",
       "      <td>10.0</td>\n",
       "      <td>0</td>\n",
       "      <td>1</td>\n",
       "      <td>0</td>\n",
       "      <td>0</td>\n",
       "      <td>0</td>\n",
       "      <td>0</td>\n",
       "      <td>...</td>\n",
       "      <td>0</td>\n",
       "      <td>0</td>\n",
       "      <td>0</td>\n",
       "      <td>0</td>\n",
       "      <td>1</td>\n",
       "      <td>0</td>\n",
       "      <td>1</td>\n",
       "      <td>0</td>\n",
       "      <td>1</td>\n",
       "      <td>0</td>\n",
       "    </tr>\n",
       "    <tr>\n",
       "      <th>1</th>\n",
       "      <td>4.4</td>\n",
       "      <td>64.0</td>\n",
       "      <td>0.0</td>\n",
       "      <td>5000.0</td>\n",
       "      <td>0</td>\n",
       "      <td>0</td>\n",
       "      <td>0</td>\n",
       "      <td>0</td>\n",
       "      <td>0</td>\n",
       "      <td>0</td>\n",
       "      <td>...</td>\n",
       "      <td>0</td>\n",
       "      <td>0</td>\n",
       "      <td>0</td>\n",
       "      <td>0</td>\n",
       "      <td>0</td>\n",
       "      <td>1</td>\n",
       "      <td>1</td>\n",
       "      <td>0</td>\n",
       "      <td>1</td>\n",
       "      <td>0</td>\n",
       "    </tr>\n",
       "    <tr>\n",
       "      <th>4</th>\n",
       "      <td>0.0</td>\n",
       "      <td>0.0</td>\n",
       "      <td>0.0</td>\n",
       "      <td>100.0</td>\n",
       "      <td>0</td>\n",
       "      <td>0</td>\n",
       "      <td>0</td>\n",
       "      <td>0</td>\n",
       "      <td>0</td>\n",
       "      <td>0</td>\n",
       "      <td>...</td>\n",
       "      <td>0</td>\n",
       "      <td>0</td>\n",
       "      <td>0</td>\n",
       "      <td>0</td>\n",
       "      <td>1</td>\n",
       "      <td>0</td>\n",
       "      <td>1</td>\n",
       "      <td>0</td>\n",
       "      <td>1</td>\n",
       "      <td>0</td>\n",
       "    </tr>\n",
       "    <tr>\n",
       "      <th>5</th>\n",
       "      <td>0.0</td>\n",
       "      <td>0.0</td>\n",
       "      <td>0.0</td>\n",
       "      <td>25.0</td>\n",
       "      <td>0</td>\n",
       "      <td>0</td>\n",
       "      <td>0</td>\n",
       "      <td>0</td>\n",
       "      <td>0</td>\n",
       "      <td>0</td>\n",
       "      <td>...</td>\n",
       "      <td>0</td>\n",
       "      <td>0</td>\n",
       "      <td>1</td>\n",
       "      <td>0</td>\n",
       "      <td>1</td>\n",
       "      <td>0</td>\n",
       "      <td>0</td>\n",
       "      <td>1</td>\n",
       "      <td>1</td>\n",
       "      <td>0</td>\n",
       "    </tr>\n",
       "    <tr>\n",
       "      <th>9</th>\n",
       "      <td>4.7</td>\n",
       "      <td>820.0</td>\n",
       "      <td>0.0</td>\n",
       "      <td>25000.0</td>\n",
       "      <td>0</td>\n",
       "      <td>0</td>\n",
       "      <td>0</td>\n",
       "      <td>0</td>\n",
       "      <td>0</td>\n",
       "      <td>0</td>\n",
       "      <td>...</td>\n",
       "      <td>0</td>\n",
       "      <td>0</td>\n",
       "      <td>0</td>\n",
       "      <td>0</td>\n",
       "      <td>0</td>\n",
       "      <td>1</td>\n",
       "      <td>1</td>\n",
       "      <td>0</td>\n",
       "      <td>1</td>\n",
       "      <td>0</td>\n",
       "    </tr>\n",
       "  </tbody>\n",
       "</table>\n",
       "<p>5 rows × 173 columns</p>\n",
       "</div>"
      ],
      "text/plain": [
       "   Rating  Rating Count  Price  avr.annual.Install  Category_Action  \\\n",
       "0     0.0           0.0    0.0                10.0                0   \n",
       "1     4.4          64.0    0.0              5000.0                0   \n",
       "4     0.0           0.0    0.0               100.0                0   \n",
       "5     0.0           0.0    0.0                25.0                0   \n",
       "9     4.7         820.0    0.0             25000.0                0   \n",
       "\n",
       "   Category_Adventure  Category_Arcade  Category_Art & Design  \\\n",
       "0                   1                0                      0   \n",
       "1                   0                0                      0   \n",
       "4                   0                0                      0   \n",
       "5                   0                0                      0   \n",
       "9                   0                0                      0   \n",
       "\n",
       "   Category_Auto & Vehicles  Category_Beauty  ...  \\\n",
       "0                         0                0  ...   \n",
       "1                         0                0  ...   \n",
       "4                         0                0  ...   \n",
       "5                         0                0  ...   \n",
       "9                         0                0  ...   \n",
       "\n",
       "   Content Rating_Everyone 10+  Content Rating_Mature 17+  \\\n",
       "0                            0                          0   \n",
       "1                            0                          0   \n",
       "4                            0                          0   \n",
       "5                            0                          0   \n",
       "9                            0                          0   \n",
       "\n",
       "   Content Rating_Teen  Content Rating_Unrated  Ad Supported_False  \\\n",
       "0                    0                       0                   1   \n",
       "1                    0                       0                   0   \n",
       "4                    0                       0                   1   \n",
       "5                    1                       0                   1   \n",
       "9                    0                       0                   0   \n",
       "\n",
       "   Ad Supported_True  In App Purchases_False  In App Purchases_True  \\\n",
       "0                  0                       1                      0   \n",
       "1                  1                       1                      0   \n",
       "4                  0                       1                      0   \n",
       "5                  0                       0                      1   \n",
       "9                  1                       1                      0   \n",
       "\n",
       "   Editors Choice_False  Editors Choice_True  \n",
       "0                     1                    0  \n",
       "1                     1                    0  \n",
       "4                     1                    0  \n",
       "5                     1                    0  \n",
       "9                     1                    0  \n",
       "\n",
       "[5 rows x 173 columns]"
      ]
     },
     "execution_count": 100,
     "metadata": {},
     "output_type": "execute_result"
    }
   ],
   "source": [
    "# Checking top Rows\n",
    "df4.head()"
   ]
  },
  {
   "cell_type": "code",
   "execution_count": 101,
   "id": "e68e1440",
   "metadata": {},
   "outputs": [
    {
     "data": {
      "text/plain": [
       "(1207012, 173)"
      ]
     },
     "execution_count": 101,
     "metadata": {},
     "output_type": "execute_result"
    }
   ],
   "source": [
    "df4.shape"
   ]
  },
  {
   "cell_type": "markdown",
   "id": "5bd11f5e",
   "metadata": {},
   "source": [
    "### 3. Model Preparation and Evaluation "
   ]
  },
  {
   "cell_type": "code",
   "execution_count": 102,
   "id": "eb248962",
   "metadata": {},
   "outputs": [],
   "source": [
    "#Train Test Split \n",
    "# Assigining target and features \n",
    "Y=df4['avr.annual.Install']\n",
    "X=df4.drop(['avr.annual.Install'], axis=1)\n",
    "\n",
    "X_train, X_test, Y_train, Y_test = train_test_split(X, Y, test_size=0.2, random_state=42)"
   ]
  },
  {
   "cell_type": "code",
   "execution_count": 103,
   "id": "1754d55a",
   "metadata": {},
   "outputs": [
    {
     "name": "stdout",
     "output_type": "stream",
     "text": [
      "Train Size: (965609, 172)\n",
      "Test Size: (241403, 172)\n"
     ]
    }
   ],
   "source": [
    "#Checking Size\n",
    "print(\"Train Size: \" + str(X_train.shape))\n",
    "print(\"Test Size: \" + str(X_test.shape))\n"
   ]
  },
  {
   "cell_type": "markdown",
   "id": "a9085d6c",
   "metadata": {},
   "source": [
    "##### Model 1 GaradientBoosting Regressor"
   ]
  },
  {
   "cell_type": "code",
   "execution_count": 104,
   "id": "4c26346a",
   "metadata": {},
   "outputs": [
    {
     "data": {
      "text/plain": [
       "GradientBoostingRegressor()"
      ]
     },
     "execution_count": 104,
     "metadata": {},
     "output_type": "execute_result"
    }
   ],
   "source": [
    "# Get library\n",
    "from sklearn.ensemble import GradientBoostingRegressor\n",
    "GBoost = GradientBoostingRegressor()\n",
    "# Initializing the model and fitting the model with train data\n",
    "GBoost.fit(X_train, Y_train)"
   ]
  },
  {
   "cell_type": "code",
   "execution_count": 105,
   "id": "c75a1b7f",
   "metadata": {},
   "outputs": [],
   "source": [
    "# Generating predictions over test data \n",
    "Y_predict = GBoost.predict(X_test)"
   ]
  },
  {
   "cell_type": "markdown",
   "id": "e5e60e97",
   "metadata": {},
   "source": [
    "#### Model 1 Evaluation "
   ]
  },
  {
   "cell_type": "code",
   "execution_count": 106,
   "id": "75ddcfcd",
   "metadata": {},
   "outputs": [
    {
     "name": "stdout",
     "output_type": "stream",
     "text": [
      "R2: 0.23397332828422068\n",
      "MAE: 61924.50667132769\n",
      "MSE: 3144261357651.3022\n",
      "rmse: 1773206.518612906\n"
     ]
    }
   ],
   "source": [
    "# Get regession Metrics\n",
    "from sklearn.metrics import mean_absolute_error, mean_squared_error, r2_score\n",
    "# Evaluating the model using MAE Evaluation Metric\n",
    "print(\"R2: \" + str(r2_score(Y_test, Y_predict)))\n",
    "print(\"MAE: \" + str(mean_absolute_error(Y_test, Y_predict)))\n",
    "print(\"MSE: \" + str(mean_squared_error(Y_test, Y_predict)))\n",
    "print(\"rmse: \" + str(mean_squared_error(Y_test, Y_predict, squared=False)))"
   ]
  },
  {
   "cell_type": "markdown",
   "id": "3c889dde",
   "metadata": {},
   "source": [
    "#### Model 2 DecisionTree Regressor"
   ]
  },
  {
   "cell_type": "code",
   "execution_count": 107,
   "id": "1ce8f9ff",
   "metadata": {},
   "outputs": [
    {
     "data": {
      "text/plain": [
       "DecisionTreeRegressor(max_leaf_nodes=29, random_state=0)"
      ]
     },
     "execution_count": 107,
     "metadata": {},
     "output_type": "execute_result"
    }
   ],
   "source": [
    "# Importing Library\n",
    "from sklearn.tree import DecisionTreeRegressor\n",
    "Dtree = DecisionTreeRegressor(max_leaf_nodes=29, random_state=0)\n",
    "Dtree.fit(X_train, Y_train)"
   ]
  },
  {
   "cell_type": "code",
   "execution_count": 108,
   "id": "d12acb63",
   "metadata": {},
   "outputs": [],
   "source": [
    "# Generating predictions over test data \n",
    "Y_predict_dt = Dtree.predict(X_test)"
   ]
  },
  {
   "cell_type": "code",
   "execution_count": 109,
   "id": "da81d4d7",
   "metadata": {},
   "outputs": [
    {
     "name": "stdout",
     "output_type": "stream",
     "text": [
      "MAE_Dt: 0.24335799323716045\n",
      "MAE_Dt: 72326.86903799174\n"
     ]
    }
   ],
   "source": [
    "# Evaluation\n",
    "print(\"MAE_Dt: \" + str(r2_score(Y_test, Y_predict_dt)))\n",
    "print(\"MAE_Dt: \" + str(mean_absolute_error(Y_test, Y_predict_dt)))\n"
   ]
  },
  {
   "cell_type": "markdown",
   "id": "f75bf0b6",
   "metadata": {},
   "source": [
    "###  Conclusion "
   ]
  },
  {
   "cell_type": "code",
   "execution_count": 111,
   "id": "b150b7d6",
   "metadata": {},
   "outputs": [
    {
     "name": "stdout",
     "output_type": "stream",
     "text": [
      " Model1_GradientBoostingRegressor_ MAE: 61924.50667132769\n",
      "Model2 _DecisionTreeRegressor_MAE: 72326.86903799174\n"
     ]
    }
   ],
   "source": [
    "# Getting the MAE for the three models\n",
    "print(\" Model1_GradientBoostingRegressor_ MAE: \" + str(mean_absolute_error(Y_test, Y_predict)))\n",
    "print(\"Model2 _DecisionTreeRegressor_MAE: \" + str(mean_absolute_error(Y_test, Y_predict_dt)))\n"
   ]
  },
  {
   "cell_type": "markdown",
   "id": "fe09032f",
   "metadata": {},
   "source": [
    "Based on the Mean Absolute error from the two evlauated models Gradient Boosing Regressor has a better performance."
   ]
  },
  {
   "cell_type": "code",
   "execution_count": null,
   "id": "cfd8844f",
   "metadata": {},
   "outputs": [],
   "source": []
  }
 ],
 "metadata": {
  "kernelspec": {
   "display_name": "Python 3 (ipykernel)",
   "language": "python",
   "name": "python3"
  },
  "language_info": {
   "codemirror_mode": {
    "name": "ipython",
    "version": 3
   },
   "file_extension": ".py",
   "mimetype": "text/x-python",
   "name": "python",
   "nbconvert_exporter": "python",
   "pygments_lexer": "ipython3",
   "version": "3.9.12"
  }
 },
 "nbformat": 4,
 "nbformat_minor": 5
}
